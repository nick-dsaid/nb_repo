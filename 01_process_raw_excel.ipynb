{
 "cells": [
  {
   "cell_type": "code",
   "execution_count": 1,
   "metadata": {},
   "outputs": [
    {
     "name": "stdout",
     "output_type": "stream",
     "text": [
      "Package loaded in Notebook Mode\n",
      "Successfully imported ds_utils as Package\n"
     ]
    }
   ],
   "source": [
    "from dsx.ds_utils import *"
   ]
  },
  {
   "cell_type": "code",
   "execution_count": 2,
   "metadata": {},
   "outputs": [
    {
     "name": "stdout",
     "output_type": "stream",
     "text": [
      "INFO: Pandarallel will run on 12 workers.\n",
      "INFO: Pandarallel will use Memory file system to transfer data between the main process and workers.\n"
     ]
    }
   ],
   "source": [
    "import re, datetime, qgrid, dtale\n",
    "from pandarallel import pandarallel\n",
    "pandarallel.initialize(progress_bar=True)"
   ]
  },
  {
   "cell_type": "code",
   "execution_count": 3,
   "metadata": {},
   "outputs": [],
   "source": [
    "%matplotlib inline\n",
    "%config InlineBackend.figure_format = 'retina'\n",
    "plt.style.use('fivethirtyeight')\n",
    "sns.set_context(context={'figure.figsize': (16,9)})"
   ]
  },
  {
   "cell_type": "code",
   "execution_count": 4,
   "metadata": {},
   "outputs": [],
   "source": [
    "qgrid.set_grid_option('forceFitColumns', False)"
   ]
  },
  {
   "cell_type": "code",
   "execution_count": 5,
   "metadata": {},
   "outputs": [
    {
     "name": "stdout",
     "output_type": "stream",
     "text": [
      "Set project directory to /mnt/d/DSAI_Workstation/0003_ePrimer/workspace.\n",
      "Property \"dir_%\" enabled\n"
     ]
    }
   ],
   "source": [
    "dsx.set_dirs()"
   ]
  },
  {
   "cell_type": "markdown",
   "metadata": {},
   "source": [
    "# Loading Data"
   ]
  },
  {
   "cell_type": "code",
   "execution_count": 6,
   "metadata": {},
   "outputs": [
    {
     "data": {
      "text/plain": [
       "['Learning History', 'Feedback']"
      ]
     },
     "execution_count": 6,
     "metadata": {},
     "output_type": "execute_result"
    }
   ],
   "source": [
    "file_excel = pd.ExcelFile('data/inputs/eprimer_raw.xlsx')\n",
    "file_excel.sheet_names"
   ]
  },
  {
   "cell_type": "code",
   "execution_count": 7,
   "metadata": {},
   "outputs": [],
   "source": [
    "df = file_excel.parse(file_excel.sheet_names[0])\n",
    "dfx = file_excel.parse(file_excel.sheet_names[1])"
   ]
  },
  {
   "cell_type": "markdown",
   "metadata": {},
   "source": [
    "## One-off Agency Name and Short-Form"
   ]
  },
  {
   "cell_type": "markdown",
   "metadata": {},
   "source": [
    "### Only Run If to Re-generate mapping file"
   ]
  },
  {
   "cell_type": "code",
   "execution_count": 8,
   "metadata": {},
   "outputs": [],
   "source": [
    "df_temp = df[['Email', 'Agency']].drop_duplicates()\n",
    "df_temp.ds.rename('Agency', 'Agency_Descr')"
   ]
  },
  {
   "cell_type": "code",
   "execution_count": null,
   "metadata": {},
   "outputs": [],
   "source": [
    "df_short = pd.read_csv('data/inputs/Learning History.csv')\n",
    "df_short = df_short[['Email', 'Agency']].drop_duplicates()"
   ]
  },
  {
   "cell_type": "code",
   "execution_count": null,
   "metadata": {},
   "outputs": [],
   "source": [
    "df_mapps = df_temp.ds.merge(df_short, 'left', 'Email')\n",
    "df_mapps = df_mapps[['Agency', 'Agency_Descr']].drop_duplicates('Agency_Descr')\n",
    "\n",
    "df_mapps.ds.duplicated('Agency_Descr') == 0\n",
    "df_mapps.dropna(axis=0, subset=['Agency'], inplace=True)\n",
    "\n",
    "df_mapps = df_mapps[['Agency_Descr', 'Agency']]"
   ]
  },
  {
   "cell_type": "code",
   "execution_count": null,
   "metadata": {},
   "outputs": [],
   "source": [
    "df_mapps.to_excel('data/inputs/mapps_agency.xlsx', index=False)"
   ]
  },
  {
   "cell_type": "markdown",
   "metadata": {},
   "source": [
    "### Mapping Agency to Acronym "
   ]
  },
  {
   "cell_type": "code",
   "execution_count": 9,
   "metadata": {},
   "outputs": [],
   "source": [
    "df_mapps = pd.read_excel('data/inputs/mapps_agency.xlsx')"
   ]
  },
  {
   "cell_type": "code",
   "execution_count": 10,
   "metadata": {},
   "outputs": [
    {
     "name": "stdout",
     "output_type": "stream",
     "text": [
      "(True, 24392)\n",
      "(71, 0.0029107904230895377)\n",
      "(True, 10271)\n",
      "(21, 0.0020445915684938177)\n"
     ]
    }
   ],
   "source": [
    "df.ds.rename('Agency', 'Agency_Descr')\n",
    "dfx.ds.rename('Agency', 'Agency_Descr')\n",
    "\n",
    "df = df.ds.merge(df_mapps, 'left', 'Agency_Descr', isnull='Agency')\n",
    "dfx = dfx.ds.merge(df_mapps, 'left', 'Agency_Descr', isnull='Agency')"
   ]
  },
  {
   "cell_type": "markdown",
   "metadata": {},
   "source": [
    "## Cleaning"
   ]
  },
  {
   "cell_type": "code",
   "execution_count": 11,
   "metadata": {},
   "outputs": [],
   "source": [
    "# Standardized Field Names\n",
    "df.ds.stdcols()\n",
    "dfx.ds.stdcols()"
   ]
  },
  {
   "cell_type": "code",
   "execution_count": 12,
   "metadata": {},
   "outputs": [
    {
     "name": "stdout",
     "output_type": "stream",
     "text": [
      "(True, 24392)\n",
      "(14121, 0.5789193178091178)\n"
     ]
    }
   ],
   "source": [
    "df = df.ds.merge(dfx[['Email', 'CourseID', 'Rated_Date_Time_SGT', 'Rating', 'Comment']], 'left', ['Email', 'CourseID'], isnull='Rated_Date_Time_SGT')"
   ]
  },
  {
   "cell_type": "code",
   "execution_count": 13,
   "metadata": {},
   "outputs": [],
   "source": [
    "df['Module'] = df.Courses_Name.str.extract(r'([0-9]{1})')\n",
    "df['Module_Descr'] = 'M' + df.Module\n",
    "df.Module = df.Module.astype(int)"
   ]
  },
  {
   "cell_type": "code",
   "execution_count": 14,
   "metadata": {},
   "outputs": [],
   "source": [
    "df['Module_Complete'] = df.Lesson_Completion == 100"
   ]
  },
  {
   "cell_type": "code",
   "execution_count": 15,
   "metadata": {},
   "outputs": [],
   "source": [
    "df.loc[(df.Course_Completed_Date_SGT.isnull()) & (df.Module_Complete), 'Course_Completed_Date_SGT'] = df.Lesson_Completed_Date_SGT"
   ]
  },
  {
   "cell_type": "code",
   "execution_count": 16,
   "metadata": {},
   "outputs": [],
   "source": [
    "cols_drop = ['Courses_Name', 'Course_Domain', 'Tag', 'Time_Spent', 'Lesson_Name', 'Lesson_Completion', 'Lesson_Completed_Date_SGT']\n",
    "df.drop(cols_drop, 1, inplace=True)"
   ]
  },
  {
   "cell_type": "code",
   "execution_count": 17,
   "metadata": {},
   "outputs": [],
   "source": [
    "df.dropna(axis=0, subset=['Agency'], inplace=True)"
   ]
  },
  {
   "cell_type": "markdown",
   "metadata": {},
   "source": [
    "# Calculated Features"
   ]
  },
  {
   "cell_type": "markdown",
   "metadata": {},
   "source": [
    "## Day of the Week"
   ]
  },
  {
   "cell_type": "code",
   "execution_count": 18,
   "metadata": {},
   "outputs": [],
   "source": [
    "df['enrolled_dow'] = df.Course_Enrolled_Date_SGT.map(lambda x: x.weekday())\n",
    "df['completed_dow'] = df.Course_Completed_Date_SGT.map(lambda x: x.weekday())"
   ]
  },
  {
   "cell_type": "code",
   "execution_count": 19,
   "metadata": {},
   "outputs": [],
   "source": [
    "mapps_dow = {\n",
    "    0 : 'Sun',\n",
    "    1 : 'Mon',\n",
    "    2 : 'Tues',\n",
    "    3 : 'Wed',\n",
    "    4 : 'Thurs',\n",
    "    5 : 'Fri',\n",
    "    6 : 'Sat'\n",
    "}\n",
    "\n",
    "df['enrolled_dow_label'] = df.enrolled_dow.map(mapps_dow)\n",
    "df['completed_dow_label'] = df.completed_dow.map(mapps_dow)"
   ]
  },
  {
   "cell_type": "markdown",
   "metadata": {},
   "source": [
    "## Time Spent"
   ]
  },
  {
   "cell_type": "code",
   "execution_count": 20,
   "metadata": {},
   "outputs": [],
   "source": [
    "dt_delta = df.Course_Completed_Date_SGT - df.Course_Enrolled_Date_SGT\n",
    "df['total_minutes'] = dt_delta.map(lambda x: x.total_seconds() // 60)\n",
    "df['total_days'] = df.total_minutes / 60 / 24"
   ]
  },
  {
   "cell_type": "markdown",
   "metadata": {},
   "source": [
    "## Enrolled & Completed Module(s) Prior to Current Module"
   ]
  },
  {
   "cell_type": "code",
   "execution_count": 21,
   "metadata": {},
   "outputs": [],
   "source": [
    "def funx(rw):\n",
    "    dff = df[df.Email == rw['Email']].copy()\n",
    "    dff = dff[dff.Course_Enrolled_Date_SGT != rw['Course_Enrolled_Date_SGT']]\n",
    "    return len(dff[dff.Course_Enrolled_Date_SGT < rw['Course_Enrolled_Date_SGT']])"
   ]
  },
  {
   "cell_type": "code",
   "execution_count": 22,
   "metadata": {},
   "outputs": [
    {
     "data": {
      "application/vnd.jupyter.widget-view+json": {
       "model_id": "ba99a1c5d39b4f4982bf4f2477ab7f17",
       "version_major": 2,
       "version_minor": 0
      },
      "text/plain": [
       "VBox(children=(HBox(children=(IntProgress(value=0, description='0.00%', max=2027), Label(value='0 / 2027'))), …"
      ]
     },
     "metadata": {},
     "output_type": "display_data"
    }
   ],
   "source": [
    "df['enrol_prior_module_count'] = df.parallel_apply(funx, axis=1)"
   ]
  },
  {
   "cell_type": "markdown",
   "metadata": {},
   "source": [
    "## Sequence of Modules"
   ]
  },
  {
   "cell_type": "code",
   "execution_count": null,
   "metadata": {},
   "outputs": [],
   "source": []
  },
  {
   "cell_type": "markdown",
   "metadata": {},
   "source": [
    "## Number of People that Enrolled in Same Module on Same Day"
   ]
  },
  {
   "cell_type": "code",
   "execution_count": 24,
   "metadata": {},
   "outputs": [],
   "source": [
    "gp_enrol_avg_per_day = df[df.Module == 1].groupby(pd.Grouper(key=df.Course_Enrolled_Date_SGT.name, freq='7d')).Email.agg(lambda x: len(x)/7)\n",
    "gp_enrol_avg_per_day.index.rename('enrol_date', inplace=True)"
   ]
  },
  {
   "cell_type": "code",
   "execution_count": 25,
   "metadata": {},
   "outputs": [],
   "source": [
    "gp_enrol_avg_per_day.name = 'enrol_average_d7'"
   ]
  },
  {
   "cell_type": "code",
   "execution_count": 26,
   "metadata": {},
   "outputs": [],
   "source": [
    "df.set_index('Course_Enrolled_Date_SGT', drop=False, inplace=True)\n",
    "df.index.rename('enrol_date', inplace=True)"
   ]
  },
  {
   "cell_type": "code",
   "execution_count": 27,
   "metadata": {},
   "outputs": [],
   "source": [
    "df.sort_index(0, inplace=True)\n",
    "df = pd.merge_asof(df,  gp_enrol_avg_per_day, left_on='enrol_date', right_on='enrol_date', direction='backward')"
   ]
  },
  {
   "cell_type": "code",
   "execution_count": null,
   "metadata": {},
   "outputs": [],
   "source": []
  },
  {
   "cell_type": "code",
   "execution_count": null,
   "metadata": {},
   "outputs": [],
   "source": []
  },
  {
   "cell_type": "markdown",
   "metadata": {},
   "source": [
    "# Export Data"
   ]
  },
  {
   "cell_type": "code",
   "execution_count": 28,
   "metadata": {},
   "outputs": [],
   "source": [
    "df.to_excel('data/outputs/processed_data.xlsx', index=False, encoding='utf-8')"
   ]
  },
  {
   "cell_type": "code",
   "execution_count": null,
   "metadata": {},
   "outputs": [],
   "source": []
  }
 ],
 "metadata": {
  "kernelspec": {
   "display_name": "Python 3",
   "language": "python",
   "name": "python3"
  },
  "language_info": {
   "codemirror_mode": {
    "name": "ipython",
    "version": 3
   },
   "file_extension": ".py",
   "mimetype": "text/x-python",
   "name": "python",
   "nbconvert_exporter": "python",
   "pygments_lexer": "ipython3",
   "version": "3.7.6"
  },
  "widgets": {
   "application/vnd.jupyter.widget-state+json": {
    "state": {},
    "version_major": 2,
    "version_minor": 0
   }
  }
 },
 "nbformat": 4,
 "nbformat_minor": 4
}
