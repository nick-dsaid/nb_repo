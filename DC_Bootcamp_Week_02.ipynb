{
 "cells": [
  {
   "cell_type": "markdown",
   "metadata": {},
   "source": [
    "# if-else, for, while"
   ]
  },
  {
   "cell_type": "markdown",
   "metadata": {},
   "source": [
    "## Run The Following Code\n",
    "Hit SHIFT + ENTER when your cusor is inside the cell of code.<br/>"
   ]
  },
  {
   "cell_type": "markdown",
   "metadata": {},
   "source": [
    "> The if else construct enables you to selectively run parts of your code. Which part of the code runs depends on whether the code segment after if equates to True, or False."
   ]
  },
  {
   "cell_type": "code",
   "execution_count": null,
   "metadata": {},
   "outputs": [],
   "source": [
    "if True:\n",
    "    print(\"This is the code segment for True\")\n",
    "    print(\"True! Hooray!\")\n",
    "else:\n",
    "    print(\"This is the code segment for False\")\n",
    "    print(\"False! Boo!\")"
   ]
  },
  {
   "cell_type": "code",
   "execution_count": null,
   "metadata": {},
   "outputs": [],
   "source": [
    "if False:\n",
    "    print(\"This is the code segment for True\")\n",
    "    print(\"True! Hooray!\")\n",
    "else:\n",
    "    print(\"This is the code segment for False\")\n",
    "    print(\"False! Boo!\")"
   ]
  },
  {
   "cell_type": "markdown",
   "metadata": {},
   "source": [
    "> You can use a variable to enable which parts of the code runs."
   ]
  },
  {
   "cell_type": "code",
   "execution_count": null,
   "metadata": {},
   "outputs": [],
   "source": [
    "true_or_false = True\n",
    "\n",
    "if true_or_false:\n",
    "    print(\"This is the code segment for True\")\n",
    "    print(\"True! Hooray!\")\n",
    "else:\n",
    "    print(\"This is the code segment for False\")\n",
    "    print(\"False! Boo!\")"
   ]
  },
  {
   "cell_type": "code",
   "execution_count": null,
   "metadata": {},
   "outputs": [],
   "source": [
    "true_or_false = False\n",
    "\n",
    "if true_or_false:\n",
    "    print(\"This is the code segment for True\")\n",
    "    print(\"True! Hooray!\")\n",
    "else:\n",
    "    print(\"This is the code segment for False\")\n",
    "    print(\"False! Boo!\")"
   ]
  },
  {
   "cell_type": "markdown",
   "metadata": {},
   "source": [
    "> You can use conditionals together with the variable to make it more interesting and useful."
   ]
  },
  {
   "cell_type": "code",
   "execution_count": null,
   "metadata": {},
   "outputs": [],
   "source": [
    "secret_number = 10\n",
    "\n",
    "if secret_number > 5:\n",
    "    print(\"The secret number is greater than 5!\")\n",
    "else:\n",
    "    print(\"The secret number is not greater than 5.\")"
   ]
  },
  {
   "cell_type": "code",
   "execution_count": null,
   "metadata": {},
   "outputs": [],
   "source": [
    "secret_number = 3\n",
    "\n",
    "if secret_number > 5:\n",
    "    print(\"The secret number is greater than 5!\")\n",
    "else:\n",
    "    print(\"The secret number is not greater than 5.\")"
   ]
  },
  {
   "cell_type": "code",
   "execution_count": null,
   "metadata": {},
   "outputs": [],
   "source": [
    "secret_number = 8\n",
    "\n",
    "if secret_number > 5 and secret_number < 10:\n",
    "    print(\"The secret number is between 5 and 10!\")\n",
    "else:\n",
    "    print(\"The secret number is not between 5 and 10\")"
   ]
  },
  {
   "cell_type": "markdown",
   "metadata": {},
   "source": [
    "> Truth Table"
   ]
  },
  {
   "cell_type": "code",
   "execution_count": null,
   "metadata": {},
   "outputs": [],
   "source": [
    "True and True"
   ]
  },
  {
   "cell_type": "code",
   "execution_count": null,
   "metadata": {},
   "outputs": [],
   "source": [
    "True and False"
   ]
  },
  {
   "cell_type": "code",
   "execution_count": null,
   "metadata": {},
   "outputs": [],
   "source": [
    "False and True"
   ]
  },
  {
   "cell_type": "code",
   "execution_count": null,
   "metadata": {},
   "outputs": [],
   "source": [
    "False and False"
   ]
  },
  {
   "cell_type": "markdown",
   "metadata": {},
   "source": [
    ">Do the same using \"or\""
   ]
  },
  {
   "cell_type": "code",
   "execution_count": null,
   "metadata": {},
   "outputs": [],
   "source": [
    "<..>"
   ]
  },
  {
   "cell_type": "markdown",
   "metadata": {},
   "source": [
    "> combining Booleans for complex if-else<br/>\n",
    "There are 2 classes of students, A and B. There are 10 students in each class. <br/>\n",
    "Only students from Class A, index number 1 to 5 take the exam on 10 Jun. <br/>\n",
    "The rest takes it on 11 Jun."
   ]
  },
  {
   "cell_type": "code",
   "execution_count": null,
   "metadata": {},
   "outputs": [],
   "source": [
    "myclass = input(\"What is your class? A or B: \")\n",
    "myindex = input(\"What is your index number? 1 - 10: \")\n",
    "myindex = int(myindex)\n",
    "\n",
    "if myclass == 'A' and myindex <= 5:\n",
    "    print(\"Your exam is on the 10 Jun.\")\n",
    "else:\n",
    "    print(\"Your exam is on the 11 Jun.\")"
   ]
  },
  {
   "cell_type": "markdown",
   "metadata": {},
   "source": [
    "> Now we make the logic a bit more complex.<br/>\n",
    "There are 2 classes of students, A and B. There are 10 students in each class. <br/>\n",
    "Students from Class A, index number 1 to 5 take the exam on 10 Jun. Index number 6 to 10 take it on 11 Jun. <br/>\n",
    "Students from Class B, index number 1 to 4 take the exam on 12 Jun. Index number 5 to 10 take it on 13 Jun."
   ]
  },
  {
   "cell_type": "code",
   "execution_count": null,
   "metadata": {},
   "outputs": [],
   "source": [
    "myclass = input(\"What is your class? A or B: \")\n",
    "myindex = input(\"What is your index number? 1 - 10: \")\n",
    "myindex = int(myindex)\n",
    "\n",
    "if myclass == 'A' and myindex <= 5:\n",
    "    print(\"Your exam is on the 10 Jun.\")\n",
    "elif myclass == 'A' and myindex >= 6:\n",
    "    print(\"Your exam is on the 11 Jun.\")\n",
    "elif myclass == 'B' and myindex <= 4:\n",
    "    print(\"Your exam is on the 12 Jun.\")\n",
    "elif myclass == 'B' and myindex >= 5:\n",
    "    print(\"Your exam is on the 13 Jun.\")"
   ]
  },
  {
   "cell_type": "markdown",
   "metadata": {},
   "source": [
    "> while loop allows you to continously loop through code segments until a condition is met. Here, the condition is for counter to be equal to 0, or less for it to stop."
   ]
  },
  {
   "cell_type": "code",
   "execution_count": null,
   "metadata": {},
   "outputs": [],
   "source": [
    "counter = 5\n",
    "while counter > 0:\n",
    "    print(counter)\n",
    "    counter = counter - 1"
   ]
  },
  {
   "cell_type": "markdown",
   "metadata": {},
   "source": [
    "> you can combine the input function with the while loop to make it more interesting."
   ]
  },
  {
   "cell_type": "code",
   "execution_count": null,
   "metadata": {},
   "outputs": [],
   "source": [
    "command = \"\"\n",
    "while command != \"stop\":\n",
    "    print(\"[sings] La la la la la\")\n",
    "    command = input()"
   ]
  },
  {
   "cell_type": "markdown",
   "metadata": {},
   "source": [
    "> The for loop runs for a fixed number of iterations. We use something like a list to loop over."
   ]
  },
  {
   "cell_type": "code",
   "execution_count": null,
   "metadata": {},
   "outputs": [],
   "source": [
    "for i in [1,2,3,4,5]:\n",
    "    print(i)"
   ]
  },
  {
   "cell_type": "markdown",
   "metadata": {},
   "source": [
    "> range(x) is a function that returns you a list which runs from 0 to x-1"
   ]
  },
  {
   "cell_type": "code",
   "execution_count": null,
   "metadata": {},
   "outputs": [],
   "source": [
    "#range(5) --> [0,1,2,3,4]\n",
    "#range(5,10) --> [5,6,7,8,9]"
   ]
  },
  {
   "cell_type": "code",
   "execution_count": null,
   "metadata": {},
   "outputs": [],
   "source": [
    "for i in range(5):\n",
    "    print(i)"
   ]
  },
  {
   "cell_type": "code",
   "execution_count": null,
   "metadata": {},
   "outputs": [],
   "source": [
    "for i in [0,1,2,3,4]:\n",
    "    print(i)"
   ]
  },
  {
   "cell_type": "code",
   "execution_count": null,
   "metadata": {},
   "outputs": [],
   "source": [
    "for i in range(5,10):\n",
    "    print(i)"
   ]
  },
  {
   "cell_type": "code",
   "execution_count": null,
   "metadata": {},
   "outputs": [],
   "source": [
    "for i in [5,6,7,8,9]:\n",
    "    print(i)"
   ]
  },
  {
   "cell_type": "code",
   "execution_count": null,
   "metadata": {},
   "outputs": [],
   "source": [
    "x = [1,2,3,4,5]\n",
    "for i in x:\n",
    "    print(i)"
   ]
  },
  {
   "cell_type": "markdown",
   "metadata": {},
   "source": [
    ">len of a list gives you the number of elements in a list."
   ]
  },
  {
   "cell_type": "code",
   "execution_count": null,
   "metadata": {},
   "outputs": [],
   "source": [
    "len(x)"
   ]
  },
  {
   "cell_type": "markdown",
   "metadata": {},
   "source": [
    "> What is the difference between this and the previous way of iterating through a list?"
   ]
  },
  {
   "cell_type": "code",
   "execution_count": null,
   "metadata": {},
   "outputs": [],
   "source": [
    "x = [1,2,3,4,5]\n",
    "for i in range( len(x) ):\n",
    "    print(x[i])"
   ]
  },
  {
   "cell_type": "markdown",
   "metadata": {},
   "source": [
    "> You use this approach when you want to modify the contents of the list."
   ]
  },
  {
   "cell_type": "code",
   "execution_count": null,
   "metadata": {},
   "outputs": [],
   "source": [
    "for i in range( len(x) ):\n",
    "    item = x[i]\n",
    "    if item == 3:\n",
    "        x[i] = 10\n",
    "print(x)"
   ]
  },
  {
   "cell_type": "markdown",
   "metadata": {},
   "source": [
    "> Iterating with the old way does not allow you to modify the contents"
   ]
  },
  {
   "cell_type": "code",
   "execution_count": null,
   "metadata": {},
   "outputs": [],
   "source": [
    "x = [1,2,3,4,5]\n",
    "for i in x:\n",
    "    if i == 3:\n",
    "        i = 10\n",
    "print(x)"
   ]
  },
  {
   "cell_type": "markdown",
   "metadata": {},
   "source": [
    "# !! Your Turn !!"
   ]
  },
  {
   "cell_type": "markdown",
   "metadata": {},
   "source": [
    "## Replace the code marked as <..> COMPLETELY with your own.\n",
    "For example:\n",
    "length = <..> will be replaced by length = 10"
   ]
  },
  {
   "cell_type": "markdown",
   "metadata": {},
   "source": [
    "# Question 1\n",
    "1) x % 2 == 0 returns True if x is an even number<br/>\n",
    "2) Declare a variable, <b>x</b> that stores a number of your choice.<br/>\n",
    "3) write the if-else statements such that if x is an even number, print \"x is an even number\". if it is not, print that it is an odd number."
   ]
  },
  {
   "cell_type": "code",
   "execution_count": null,
   "metadata": {},
   "outputs": [],
   "source": [
    "x = <..> #can be any value\n",
    "if <..> == <..>:\n",
    "    print(<..>)\n",
    "else:\n",
    "    print(<..>)"
   ]
  },
  {
   "cell_type": "markdown",
   "metadata": {},
   "source": [
    "# Question 2\n",
    "1) Declare a variable, <b>score</b> that stores a number of your choice from 0 to 100.<br/>\n",
    "2) print out the respective letter grade for your score.<br/>\n",
    "A is > 75<br/>\n",
    "B is 60 to 74<br/>\n",
    "C is 50 to 59<br/>\n",
    "F is < 50<br/>"
   ]
  },
  {
   "cell_type": "code",
   "execution_count": null,
   "metadata": {},
   "outputs": [],
   "source": [
    "score = <..> #can be any value from 0 to 100\n",
    "\n",
    "if <..>:\n",
    "    print(\"A\")\n",
    "elif <..>:\n",
    "    print(\"B\")\n",
    "elif <..>:\n",
    "    print(\"C\")\n",
    "else:\n",
    "    print(\"F\")"
   ]
  },
  {
   "cell_type": "markdown",
   "metadata": {},
   "source": [
    "# Question 3\n",
    "1) Declare a variable, <b>citizen</b> and store a value of True or False (you choose)<br/>\n",
    "2) Declare a variable, <b>special_event</b> and store a value True or False (you choose)<br/>\n",
    "3) Write the logic for the following: <br/><br/>\n",
    "\n",
    "if a person is a citizen and there is a special event, print out 'Enter museum for free'<br/>\n",
    "if a person is a citzen and there is no special event, print out 'Pay 10 dollars'<br/>\n",
    "if a person is not a citizen and there is a special event, print out 'Pay 25 dollars'<br/>\n",
    "if a person is not a citizen and there is no special event, print out 'Pay 50 dollars'<br/>"
   ]
  },
  {
   "cell_type": "code",
   "execution_count": null,
   "metadata": {},
   "outputs": [],
   "source": [
    "citizen = <..>\n",
    "special_event = <..>\n",
    "\n",
    "if citizen and special_event:\n",
    "    print(\"Can enter museum for free\")\n",
    "elif <..>:\n",
    "    print(\"Pay $10\")\n",
    "elif <..>:\n",
    "    print(\"Pay $25\")\n",
    "elif <..>:\n",
    "    print(\"Pay $50\")"
   ]
  },
  {
   "cell_type": "markdown",
   "metadata": {},
   "source": [
    "# Question 4\n",
    "1) Code out the following:<br/><br/>\n",
    "   Prompt for an input for \"Coffee or Tea\".<br/>\n",
    "   If the input is \"Coffee\", print out \"Starbucks is to your right.\"<br/>\n",
    "   Else if the input is \"Tea\", print out \"TWG cafe is to your left.\"<br/>\n",
    "   If the input is anything else, print out \"I don't understand you.\"<br/>"
   ]
  },
  {
   "cell_type": "code",
   "execution_count": null,
   "metadata": {},
   "outputs": [],
   "source": [
    "selection = <..>(\"Coffee or Tea? \")\n",
    "if <..>:\n",
    "    print(\"Starbucks is to your right.\")\n",
    "elif <..>:\n",
    "    print(\"TWG cafe is to your left.\")\n",
    "<..>:\n",
    "    <..>"
   ]
  },
  {
   "cell_type": "markdown",
   "metadata": {},
   "source": [
    "# Question 5\n",
    "1) Improve upon your answer in Question 4 using the str methods, such that even if you type in 'coffee' or 'CoFFee' or 'COFFEE', the code will still work."
   ]
  },
  {
   "cell_type": "code",
   "execution_count": null,
   "metadata": {},
   "outputs": [],
   "source": [
    "<..>"
   ]
  },
  {
   "cell_type": "markdown",
   "metadata": {},
   "source": [
    "# Question 6"
   ]
  },
  {
   "cell_type": "markdown",
   "metadata": {},
   "source": [
    "1) Print out \"Hello\" 5 times using a for loop. <br/>\n",
    "Hint: range(x) creates a sequence of numbers from 0 to x-1"
   ]
  },
  {
   "cell_type": "code",
   "execution_count": null,
   "metadata": {},
   "outputs": [],
   "source": [
    "for i in range(<..>):\n",
    "    <..>"
   ]
  },
  {
   "cell_type": "markdown",
   "metadata": {},
   "source": [
    "2) Print out \"Hello\" 5 times using a while loop. <br/>\n",
    "Hint: <b>x -= 1</b> is the same as <b>x = x - 1</b>. We call this \"syntactic sugar\"."
   ]
  },
  {
   "cell_type": "code",
   "execution_count": null,
   "metadata": {},
   "outputs": [],
   "source": [
    "counter = <..>\n",
    "while counter > 0:\n",
    "    <..>\n",
    "    counter -= <..>"
   ]
  },
  {
   "cell_type": "markdown",
   "metadata": {},
   "source": [
    "# Question 7\n",
    "1) Create a list of numbers 1 to 20 into a variable, <b>numbers</b>. <br/>\n",
    "2) Write a for loop to print out all the numbers."
   ]
  },
  {
   "cell_type": "code",
   "execution_count": null,
   "metadata": {},
   "outputs": [],
   "source": [
    "numbers = <..> # or numbers = range(1,21)\n",
    "\n",
    "for i in <..>:\n",
    "    <..>"
   ]
  },
  {
   "cell_type": "markdown",
   "metadata": {},
   "source": [
    "3) Write a for loop which prints out ONLY the Even numbers."
   ]
  },
  {
   "cell_type": "code",
   "execution_count": null,
   "metadata": {},
   "outputs": [],
   "source": [
    "for i in <..>:\n",
    "    if <..>:\n",
    "        <..>"
   ]
  },
  {
   "cell_type": "markdown",
   "metadata": {},
   "source": [
    "4) Write a for loop which prints out ONLY the Odd numbers."
   ]
  },
  {
   "cell_type": "code",
   "execution_count": null,
   "metadata": {},
   "outputs": [],
   "source": [
    "for i in <..>:\n",
    "    if <..>:\n",
    "        <..>"
   ]
  },
  {
   "cell_type": "markdown",
   "metadata": {},
   "source": [
    "# Question 8 *\n",
    "1) Code out the following:<br/>\n",
    "    (to check if x is divisible by y, use x % y == 0)<br/><br/>\n",
    "   Prompt for an input to check if a particular year is a leap year.<br/>\n",
    "   Convert the input into an integer.<br/>\n",
    "   If the year is not divisible by 4, it is not a leap year. (e.g. 1997)<br/>\n",
    "   If the year is divisble by 4, it is a leap year unless: <br/>\n",
    "   It is divisible by 100 and not divisible by 400 (e.g. 2012)<br/>"
   ]
  },
  {
   "cell_type": "code",
   "execution_count": null,
   "metadata": {},
   "outputs": [],
   "source": [
    "year = input(\"Input the year: \")\n",
    "year = int(year)\n",
    "\n",
    "if year % 4 != 0:\n",
    "    print(year,\"is not a leap year\")\n",
    "elif year % 4 == 0:\n",
    "    if <..> and <..>:\n",
    "        print(<..>)\n",
    "    else:\n",
    "        print(<..>)"
   ]
  },
  {
   "cell_type": "markdown",
   "metadata": {},
   "source": [
    "<i>Notes: Reference for leap year logic - http://www.mathsisfun.com/leap-years.html</i>"
   ]
  },
  {
   "cell_type": "markdown",
   "metadata": {},
   "source": [
    "# Question 9 *\n",
    "1) Create a list of 5 birthdays (your choice in DDMMYYYY format) and store them into a list, <b>birthdays</b>. <br/>\n",
    "2) Write a for loop to print out all the birthdays."
   ]
  },
  {
   "cell_type": "code",
   "execution_count": null,
   "metadata": {},
   "outputs": [],
   "source": []
  },
  {
   "cell_type": "markdown",
   "metadata": {},
   "source": [
    "3) Write a for loop to extract out the last 4 characters of the birthdays and print them out only."
   ]
  },
  {
   "cell_type": "code",
   "execution_count": null,
   "metadata": {},
   "outputs": [],
   "source": []
  },
  {
   "cell_type": "markdown",
   "metadata": {},
   "source": [
    "4) Write a for loop to print out the birthday, and the corresponding age this year. Consider only the year of birth, can ignore the days and months.<br/>\n",
    "for example:<br/>\n",
    "10101975 --> 45<br/>\n",
    "01051990 --> 30<br/>"
   ]
  },
  {
   "cell_type": "code",
   "execution_count": null,
   "metadata": {},
   "outputs": [],
   "source": []
  },
  {
   "cell_type": "markdown",
   "metadata": {},
   "source": [
    "5) Convert the list of birthdays into a list of ages<br/>\n",
    "For example:<br/>\n",
    "Before Conversion<br/>\n",
    "['10101975', '01051990', '22112000', '12042010', '01011999']<br/>\n",
    "After Conversion<br/>\n",
    "[45, 30, 20, 10, 21]<br/><br/>\n",
    "\n",
    "6) Print out the variable, birthdays to verify."
   ]
  },
  {
   "cell_type": "code",
   "execution_count": null,
   "metadata": {},
   "outputs": [],
   "source": [
    "print(\"Before Conversion\")\n",
    "print(birthdays)\n",
    "\n",
    "<..>"
   ]
  },
  {
   "cell_type": "markdown",
   "metadata": {},
   "source": [
    "# Question 10 *"
   ]
  },
  {
   "cell_type": "markdown",
   "metadata": {},
   "source": [
    "ASSUME THAT YOU DO NOT NEED TO DO ANY ERROR DETECTION<br/><br/>\n",
    "1) Write a while loop that:<br/>\n",
    "- asks the user 'What is your command?'<br/>\n",
    "- if the user's command is exit, then print out \"Exiting\" and exit out of the loop.\n",
    "- if the user's command is 'add', then print out \"Your command is add.\"\n",
    "- if the user's command is 'minus', then print out \"Your command is minus.\"<br/>\n",
    "- if the user keys in anything else, then print out \"Unknown command\"<br/><br/>\n",
    "\n",
    "<b>Sample Output:</b><br/>\n",
    "What is your command? add<br/>\n",
    "Your command is add<br/>\n",
    "What is your command? minus<br/>\n",
    "Your command is minus<br/>\n",
    "What is your command? hello<br/>\n",
    "Unknown command<br/>\n",
    "What is your command? exit<br/>\n",
    "Exiting<br/>"
   ]
  },
  {
   "cell_type": "code",
   "execution_count": null,
   "metadata": {},
   "outputs": [],
   "source": [
    "command = \"\"\n",
    "while command != \"exit\":\n",
    "    <..>"
   ]
  },
  {
   "cell_type": "markdown",
   "metadata": {},
   "source": [
    "2) Let's enhance your code above into a program that can do addition.<br/>\n",
    "After you prompt for the command, if the user keys in 'add', then print out the result of both numbers added together.<br/><br/>\n",
    "<b>Sample Output</b><br/>\n",
    "What is your command? add<br/>\n",
    "Your command is add<br/>\n",
    "What is the first number? 2<br/>\n",
    "What is the second number? 3<br/>\n",
    "The answer is 5<br/>\n",
    "What is your command? exit<br/>\n",
    "Exiting<br/>"
   ]
  },
  {
   "cell_type": "code",
   "execution_count": null,
   "metadata": {},
   "outputs": [],
   "source": [
    "command = \"\"\n",
    "while command != \"exit\":\n",
    "    <..>"
   ]
  },
  {
   "cell_type": "markdown",
   "metadata": {},
   "source": [
    "3) Add on to your program to be able to handle subraction.<br/><br/>\n",
    "\n",
    "<b>Sample Output</b><br/>\n",
    "What is your command? minus<br/>\n",
    "Your command is minus<br/>\n",
    "What is the first number? 10<br/>\n",
    "What is the second number? 5<br/>\n",
    "The answer is 5<br/>\n",
    "What is your command? exit<br/>\n",
    "Exiting<br/>"
   ]
  },
  {
   "cell_type": "code",
   "execution_count": null,
   "metadata": {},
   "outputs": [],
   "source": [
    "command = \"\"\n",
    "while command != \"exit\":\n",
    "    <..>"
   ]
  },
  {
   "cell_type": "markdown",
   "metadata": {},
   "source": [
    "# Question X"
   ]
  },
  {
   "cell_type": "code",
   "execution_count": null,
   "metadata": {},
   "outputs": [],
   "source": [
    "#JUST RUN THIS.\n",
    "#YOU DO NOT NEED TO UNDERSTAND THESE CODES YET\n",
    "\n",
    "#These codes read in the excel file\n",
    "\n",
    "import pandas as pd\n",
    "df = pd.read_excel('Week_03.xlsx',dtype={'birthday': str})\n",
    "bday_list = list(df['birthday'])"
   ]
  },
  {
   "cell_type": "code",
   "execution_count": null,
   "metadata": {},
   "outputs": [],
   "source": [
    "#Fill this in\n",
    "#I want to create a new column that shows the age.\n",
    "#Convert bday_list into the age instead of the birthdays\n",
    "for i in range(len(bday_list)):\n",
    "    print(bday_list[i])\n",
    "    <..>"
   ]
  },
  {
   "cell_type": "code",
   "execution_count": null,
   "metadata": {},
   "outputs": [],
   "source": [
    "#JUST RUN THIS.\n",
    "#YOU DO NOT NEED TO UNDERSTAND THESE CODES YET\n",
    "#This uses the bday_list you prepared, and output a new file\n",
    "\n",
    "df['age'] = pd.Series(bday_list)\n",
    "\n",
    "df.to_excel('Week_03_mod.xlsx', index=False)"
   ]
  },
  {
   "cell_type": "code",
   "execution_count": null,
   "metadata": {},
   "outputs": [],
   "source": []
  }
 ],
 "metadata": {
  "kernelspec": {
   "display_name": "Python 3",
   "language": "python",
   "name": "python3"
  },
  "language_info": {
   "codemirror_mode": {
    "name": "ipython",
    "version": 3
   },
   "file_extension": ".py",
   "mimetype": "text/x-python",
   "name": "python",
   "nbconvert_exporter": "python",
   "pygments_lexer": "ipython3",
   "version": "3.8.5"
  }
 },
 "nbformat": 4,
 "nbformat_minor": 4
}
