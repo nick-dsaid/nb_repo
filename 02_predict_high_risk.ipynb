{
 "cells": [
  {
   "cell_type": "code",
   "execution_count": 1,
   "metadata": {},
   "outputs": [
    {
     "name": "stdout",
     "output_type": "stream",
     "text": [
      "Package loaded in Notebook Mode\n",
      "Successfully imported ds_utils as Package\n"
     ]
    }
   ],
   "source": [
    "from dsx.ds_utils import *"
   ]
  },
  {
   "cell_type": "code",
   "execution_count": 2,
   "metadata": {},
   "outputs": [
    {
     "name": "stdout",
     "output_type": "stream",
     "text": [
      "INFO: Pandarallel will run on 12 workers.\n",
      "INFO: Pandarallel will use Memory file system to transfer data between the main process and workers.\n"
     ]
    }
   ],
   "source": [
    "import re, datetime, qgrid, dtale\n",
    "from pandarallel import pandarallel\n",
    "pandarallel.initialize(progress_bar=True)"
   ]
  },
  {
   "cell_type": "code",
   "execution_count": 3,
   "metadata": {},
   "outputs": [],
   "source": [
    "%matplotlib inline\n",
    "%config InlineBackend.figure_format = 'retina'\n",
    "plt.style.use('fivethirtyeight')\n",
    "sns.set_context(context={'figure.figsize': (16,9)})"
   ]
  },
  {
   "cell_type": "code",
   "execution_count": 4,
   "metadata": {},
   "outputs": [],
   "source": [
    "qgrid.set_grid_option('forceFitColumns', False)"
   ]
  },
  {
   "cell_type": "code",
   "execution_count": 5,
   "metadata": {},
   "outputs": [
    {
     "name": "stdout",
     "output_type": "stream",
     "text": [
      "Set project directory to /mnt/d/DSAI_Workstation/0003_ePrimer/workspace.\n",
      "Property \"dir_%\" enabled\n"
     ]
    }
   ],
   "source": [
    "dsx.set_dirs()"
   ]
  },
  {
   "cell_type": "markdown",
   "metadata": {},
   "source": [
    "# Loading Data"
   ]
  },
  {
   "cell_type": "code",
   "execution_count": 46,
   "metadata": {},
   "outputs": [],
   "source": [
    "df = pd.read_excel('data/outputs/processed_data.xlsx')"
   ]
  },
  {
   "cell_type": "code",
   "execution_count": 47,
   "metadata": {},
   "outputs": [],
   "source": [
    "df.Course_Enrolled_Date_SGT = pd.to_datetime(df.Course_Enrolled_Date_SGT)\n",
    "df.Course_Completed_Date_SGT = pd.to_datetime(df.Course_Completed_Date_SGT)"
   ]
  },
  {
   "cell_type": "code",
   "execution_count": 48,
   "metadata": {},
   "outputs": [],
   "source": [
    "top_n_agencies = df.ds.cumsum('Agency').head(35).Agency\n",
    "df = df[df.Agency.isin(top_n_agencies)]"
   ]
  },
  {
   "cell_type": "code",
   "execution_count": 49,
   "metadata": {},
   "outputs": [],
   "source": [
    "train_date_cutoff = datetime.datetime(2020, 9, 14, 0, 0, 0)\n",
    "df_train = df[df.Course_Enrolled_Date_SGT < train_date_cutoff].copy()\n",
    "df_test = df[df.Course_Enrolled_Date_SGT >= train_date_cutoff].copy()\n"
   ]
  },
  {
   "cell_type": "code",
   "execution_count": 50,
   "metadata": {},
   "outputs": [],
   "source": [
    "data_set = [df_train, df_test]"
   ]
  },
  {
   "cell_type": "markdown",
   "metadata": {},
   "source": [
    "# Survival Analysis Features"
   ]
  },
  {
   "cell_type": "code",
   "execution_count": null,
   "metadata": {},
   "outputs": [],
   "source": [
    "# The right_censor_date for train data need to be re-considered"
   ]
  },
  {
   "cell_type": "code",
   "execution_count": 12,
   "metadata": {},
   "outputs": [],
   "source": [
    "def create_surva_feats_inplace(dfx, right_censor_date=datetime.datetime(2020, 10, 2, 0, 0, 0)):\n",
    "    dfx['duration'] = dfx.total_days.copy()\n",
    "    dfx.loc[dfx.duration.isnull(), 'duration'] = (right_censor_date - dfx.Course_Enrolled_Date_SGT).map(lambda x: x.total_seconds() // 60 / 60 / 24)\n",
    "    dfx['event'] = np.where(dfx.Module_Complete, 1, 0)"
   ]
  },
  {
   "cell_type": "code",
   "execution_count": 51,
   "metadata": {},
   "outputs": [],
   "source": [
    "data_set[0] = create_surva_feats_inplace(data_set[0], train_date_cutoff)\n",
    "data_set[1] = create_surva_feats_inplace(data_set[1])"
   ]
  },
  {
   "cell_type": "code",
   "execution_count": 33,
   "metadata": {},
   "outputs": [],
   "source": [
    "from lifelines import KaplanMeierFitter"
   ]
  },
  {
   "cell_type": "code",
   "execution_count": 41,
   "metadata": {},
   "outputs": [],
   "source": [
    "def create_fitter_per_agency(dfx, fitter_max_range=365):\n",
    "    fitter_dict = {}\n",
    "    for agency, group in df_train.groupby('Agency'):\n",
    "        fitter_dict[agency] = KaplanMeierFitter().fit(group['duration'], group['event'], range(0, fitter_max_range+1, 1))\n",
    "    return fitter_dict"
   ]
  },
  {
   "cell_type": "code",
   "execution_count": 53,
   "metadata": {},
   "outputs": [],
   "source": [
    "fitters = create_fitter_per_agency(df_train)"
   ]
  },
  {
   "cell_type": "code",
   "execution_count": 55,
   "metadata": {},
   "outputs": [
    {
     "data": {
      "application/vnd.jupyter.widget-view+json": {
       "model_id": "99c09048ed664780aad653775ec9c047",
       "version_major": 2,
       "version_minor": 0
      },
      "text/plain": [
       "VBox(children=(HBox(children=(IntProgress(value=0, description='0.00%', max=1581), Label(value='0 / 1581'))), …"
      ]
     },
     "metadata": {},
     "output_type": "display_data"
    }
   ],
   "source": [
    "df_train['survival_p_agency'] = df_train.parallel_apply(lambda x: fitters[x.Agency].predict(x.duration), axis=1)"
   ]
  },
  {
   "cell_type": "code",
   "execution_count": 76,
   "metadata": {},
   "outputs": [
    {
     "data": {
      "application/vnd.jupyter.widget-view+json": {
       "model_id": "d9fe8660f5d343dbaeff4762a52d2f9c",
       "version_major": 2,
       "version_minor": 0
      },
      "text/plain": [
       "VBox(children=(HBox(children=(IntProgress(value=0, description='0.00%', max=354), Label(value='0 / 354'))), HB…"
      ]
     },
     "metadata": {},
     "output_type": "display_data"
    }
   ],
   "source": [
    "df_test['survival_p_agency'] = df_test.parallel_apply(lambda x: fitters[x.Agency].predict(x.duration), axis=1)"
   ]
  },
  {
   "cell_type": "code",
   "execution_count": 59,
   "metadata": {},
   "outputs": [],
   "source": [
    "def generate_probablity_of_completion(fitter, start_period, end_period, freq='w'):\n",
    "    if freq=='w':\n",
    "        start_period *=7\n",
    "        end_period *=7\n",
    "    elif freq=='M':\n",
    "        start_period *=28\n",
    "        end_period *=28\n",
    "    elif freq=='d':\n",
    "        pass\n",
    "    \n",
    "    completion_rate_btw = fitter.predict(start_period) - fitter.predict(end_period)\n",
    "    return completion_rate_btw / fitter.predict(start_period)"
   ]
  },
  {
   "cell_type": "code",
   "execution_count": 93,
   "metadata": {},
   "outputs": [],
   "source": [
    "def generate_proxy_hazard_data(fitter, days, event_threshold=365):\n",
    "    data = [(x, generate_probablity_of_completion(fitter, x, event_threshold, 'd')) for x in range(0, days+1, 1)]\n",
    "    data = pd.DataFrame(list(data), columns=[\"duration\", \"hazard_proba\"])\n",
    "    return data\n"
   ]
  },
  {
   "cell_type": "code",
   "execution_count": 94,
   "metadata": {},
   "outputs": [],
   "source": [
    "df_data = []\n",
    "for f in fitters:\n",
    "    dfz = generate_proxy_hazard_data(fitters[f], 180, 365)\n",
    "    dfz['Agency'] = f\n",
    "    df_data.append(dfz)"
   ]
  },
  {
   "cell_type": "code",
   "execution_count": 95,
   "metadata": {},
   "outputs": [],
   "source": [
    "df_data = pd.concat(df_data, axis=0, ignore_index=True)"
   ]
  },
  {
   "cell_type": "code",
   "execution_count": 96,
   "metadata": {},
   "outputs": [],
   "source": [
    "df_train['dur'] = df_train.duration.copy()\n",
    "df_train.duration = df_train.duration.map(lambda x: round(x, 0))"
   ]
  },
  {
   "cell_type": "code",
   "execution_count": 98,
   "metadata": {},
   "outputs": [
    {
     "name": "stdout",
     "output_type": "stream",
     "text": [
      "(True, 18972)\n",
      "(278, 0.014653173097195868)\n"
     ]
    }
   ],
   "source": [
    "df_train = df_train.ds.merge(df_data, 'left', ['duration', 'Agency'], isnull='hazard_proba')"
   ]
  },
  {
   "cell_type": "code",
   "execution_count": 99,
   "metadata": {},
   "outputs": [],
   "source": [
    "df_train.loc[df_train.hazard_proba.isnull(), 'hazard_proba'] = df_train.Agency.map(lambda x: df_data[df_data.Agency == x].hazard_proba.max())"
   ]
  },
  {
   "cell_type": "code",
   "execution_count": null,
   "metadata": {},
   "outputs": [],
   "source": []
  }
 ],
 "metadata": {
  "kernelspec": {
   "display_name": "Python 3",
   "language": "python",
   "name": "python3"
  },
  "language_info": {
   "codemirror_mode": {
    "name": "ipython",
    "version": 3
   },
   "file_extension": ".py",
   "mimetype": "text/x-python",
   "name": "python",
   "nbconvert_exporter": "python",
   "pygments_lexer": "ipython3",
   "version": "3.7.6"
  },
  "widgets": {
   "application/vnd.jupyter.widget-state+json": {
    "state": {
     "0091a18de3714c4eb79c4fb701b96e4e": {
      "model_module": "@jupyter-widgets/controls",
      "model_module_version": "1.5.0",
      "model_name": "HBoxModel",
      "state": {
       "children": [
        "IPY_MODEL_f92d5614284c485f852be78f0b2de288",
        "IPY_MODEL_c8afcf05fbd644e196c1fd2014abf7a2"
       ],
       "layout": "IPY_MODEL_7d0ef60817004099a3a9a8701e5565e2"
      }
     },
     "05ecf09bee4f4e0cb7f39184c6bf9212": {
      "model_module": "@jupyter-widgets/controls",
      "model_module_version": "1.5.0",
      "model_name": "LabelModel",
      "state": {
       "layout": "IPY_MODEL_403d07f4b3994f43b6fc7a639c342541",
       "style": "IPY_MODEL_d0029b7244b34c57b60c1023b750034b",
       "value": "1581 / 1581"
      }
     },
     "0751fe45bf094ff0b5c7844005085683": {
      "model_module": "@jupyter-widgets/controls",
      "model_module_version": "1.5.0",
      "model_name": "IntProgressModel",
      "state": {
       "bar_style": "success",
       "description": "100.00%",
       "layout": "IPY_MODEL_54e4637d43364d61a2203437a546ad1d",
       "max": 1581,
       "style": "IPY_MODEL_3809b6401e8f466cb2df229f3d40b41d",
       "value": 1581
      }
     },
     "07700ebb872f42e1b10860e197d927f8": {
      "model_module": "@jupyter-widgets/base",
      "model_module_version": "1.2.0",
      "model_name": "LayoutModel",
      "state": {}
     },
     "08280f49253347dca9006a11732f793d": {
      "model_module": "@jupyter-widgets/controls",
      "model_module_version": "1.5.0",
      "model_name": "DescriptionStyleModel",
      "state": {
       "description_width": ""
      }
     },
     "08f00de577fa4d5c9e66ad184bd74e2a": {
      "model_module": "@jupyter-widgets/base",
      "model_module_version": "1.2.0",
      "model_name": "LayoutModel",
      "state": {}
     },
     "0968fccda6d249b4bad8970c253527f9": {
      "model_module": "@jupyter-widgets/controls",
      "model_module_version": "1.5.0",
      "model_name": "ProgressStyleModel",
      "state": {
       "description_width": ""
      }
     },
     "0a02c2f52a2746dbb80b475f25a537f6": {
      "model_module": "@jupyter-widgets/controls",
      "model_module_version": "1.5.0",
      "model_name": "HBoxModel",
      "state": {
       "children": [
        "IPY_MODEL_a5e13c1604ed42a39d255046d6cf56f3",
        "IPY_MODEL_dc80aeb838aa48bfbe8f90c80b7afee4"
       ],
       "layout": "IPY_MODEL_367b075d89e74ef2b02fa1a57fd5e1a9"
      }
     },
     "0a1bfdb72da14f7e90783a1858641982": {
      "model_module": "@jupyter-widgets/controls",
      "model_module_version": "1.5.0",
      "model_name": "ProgressStyleModel",
      "state": {
       "description_width": ""
      }
     },
     "0d18fcf3d7234021bc05255884dfe4bd": {
      "model_module": "@jupyter-widgets/base",
      "model_module_version": "1.2.0",
      "model_name": "LayoutModel",
      "state": {}
     },
     "0d59a5f4f88e4e7a9227188ad5c82cc4": {
      "model_module": "@jupyter-widgets/controls",
      "model_module_version": "1.5.0",
      "model_name": "HBoxModel",
      "state": {
       "children": [
        "IPY_MODEL_24953efb384546c29a349d16b8400c62",
        "IPY_MODEL_dbea8f46b7ac430b813669716987ace0"
       ],
       "layout": "IPY_MODEL_88c84659494947b7bcdb25d946687a6a"
      }
     },
     "0dd29b2369384b1384c789bd00996983": {
      "model_module": "@jupyter-widgets/base",
      "model_module_version": "1.2.0",
      "model_name": "LayoutModel",
      "state": {}
     },
     "0ebf668da5dc41af997e59211125b50c": {
      "model_module": "@jupyter-widgets/base",
      "model_module_version": "1.2.0",
      "model_name": "LayoutModel",
      "state": {}
     },
     "0fa66964b96b4865888115629b06fece": {
      "model_module": "@jupyter-widgets/base",
      "model_module_version": "1.2.0",
      "model_name": "LayoutModel",
      "state": {}
     },
     "1294b82c30354dd2bb9e822c91f200e1": {
      "model_module": "@jupyter-widgets/controls",
      "model_module_version": "1.5.0",
      "model_name": "DescriptionStyleModel",
      "state": {
       "description_width": ""
      }
     },
     "131a47a3d26640118c6237f0853f080a": {
      "model_module": "@jupyter-widgets/controls",
      "model_module_version": "1.5.0",
      "model_name": "LabelModel",
      "state": {
       "layout": "IPY_MODEL_20d145d2b1754e409ad5e716859925f6",
       "style": "IPY_MODEL_c982bdf0bd8845bc9a14556eeb92a741",
       "value": "354 / 354"
      }
     },
     "15dd2df7ffd74512bfc0837b3f1c2e3a": {
      "model_module": "@jupyter-widgets/controls",
      "model_module_version": "1.5.0",
      "model_name": "IntProgressModel",
      "state": {
       "bar_style": "success",
       "description": "100.00%",
       "layout": "IPY_MODEL_369fff2008f841588cd77497b6867091",
       "max": 1581,
       "style": "IPY_MODEL_c39916f97e134dafb4f3dcba6bd84b80",
       "value": 1581
      }
     },
     "1738430e77574cea9da157d233e9d0d8": {
      "model_module": "@jupyter-widgets/controls",
      "model_module_version": "1.5.0",
      "model_name": "ProgressStyleModel",
      "state": {
       "description_width": ""
      }
     },
     "1740bf65368e4009876019072cd6b947": {
      "model_module": "@jupyter-widgets/base",
      "model_module_version": "1.2.0",
      "model_name": "LayoutModel",
      "state": {}
     },
     "1771a0ca33be45b98983ea97cb672991": {
      "model_module": "@jupyter-widgets/controls",
      "model_module_version": "1.5.0",
      "model_name": "LabelModel",
      "state": {
       "layout": "IPY_MODEL_35d03eaeeb344555b835f601080946f6",
       "style": "IPY_MODEL_1b77dcf3992f402ebfae98b4f92b473f",
       "value": "353 / 353"
      }
     },
     "18815299ebc94eb3bef0563a6266ad46": {
      "model_module": "@jupyter-widgets/controls",
      "model_module_version": "1.5.0",
      "model_name": "DescriptionStyleModel",
      "state": {
       "description_width": ""
      }
     },
     "1a589703df344ad0af8443bdb0b3b8dd": {
      "model_module": "@jupyter-widgets/controls",
      "model_module_version": "1.5.0",
      "model_name": "IntProgressModel",
      "state": {
       "bar_style": "success",
       "description": "100.00%",
       "layout": "IPY_MODEL_4df2754969884076bab04437e18df797",
       "max": 353,
       "style": "IPY_MODEL_80365bc555b7478796a07ff64eabdeca",
       "value": 353
      }
     },
     "1a697e699b3b442a84458e3330c5365b": {
      "model_module": "@jupyter-widgets/controls",
      "model_module_version": "1.5.0",
      "model_name": "DescriptionStyleModel",
      "state": {
       "description_width": ""
      }
     },
     "1b1242760a7345d8a840824756b9c9c1": {
      "model_module": "@jupyter-widgets/controls",
      "model_module_version": "1.5.0",
      "model_name": "LabelModel",
      "state": {
       "layout": "IPY_MODEL_9bbdcb56ddfe41f4b08e00f87f5424d4",
       "style": "IPY_MODEL_75777db5f2d341d6b6445c2b9a9dab79",
       "value": "1581 / 1581"
      }
     },
     "1b77dcf3992f402ebfae98b4f92b473f": {
      "model_module": "@jupyter-widgets/controls",
      "model_module_version": "1.5.0",
      "model_name": "DescriptionStyleModel",
      "state": {
       "description_width": ""
      }
     },
     "1c2cd041e2da43fa9d74d690b5c93ed5": {
      "model_module": "@jupyter-widgets/base",
      "model_module_version": "1.2.0",
      "model_name": "LayoutModel",
      "state": {}
     },
     "1dfa92e3b4d34fd3b7ce2d8c2d2de767": {
      "model_module": "@jupyter-widgets/controls",
      "model_module_version": "1.5.0",
      "model_name": "LabelModel",
      "state": {
       "layout": "IPY_MODEL_91e2aba544984925bde5a91313e54c2c",
       "style": "IPY_MODEL_18815299ebc94eb3bef0563a6266ad46",
       "value": "353 / 353"
      }
     },
     "1e55c62790ec47f1bee6f0fe8ba4725b": {
      "model_module": "@jupyter-widgets/base",
      "model_module_version": "1.2.0",
      "model_name": "LayoutModel",
      "state": {}
     },
     "20cef43ace0545beb1f7c5308984a571": {
      "model_module": "@jupyter-widgets/base",
      "model_module_version": "1.2.0",
      "model_name": "LayoutModel",
      "state": {}
     },
     "20d145d2b1754e409ad5e716859925f6": {
      "model_module": "@jupyter-widgets/base",
      "model_module_version": "1.2.0",
      "model_name": "LayoutModel",
      "state": {}
     },
     "2278529925cb494d90948c4d4b1d6b28": {
      "model_module": "@jupyter-widgets/controls",
      "model_module_version": "1.5.0",
      "model_name": "IntProgressModel",
      "state": {
       "bar_style": "success",
       "description": "100.00%",
       "layout": "IPY_MODEL_7ac2bd4f615148faab7faaef2500fc74",
       "max": 354,
       "style": "IPY_MODEL_e14875d2ed454622ab6a7ec73b6aa2be",
       "value": 354
      }
     },
     "231abc90cb094e4ca336b2fd15d1057d": {
      "model_module": "@jupyter-widgets/controls",
      "model_module_version": "1.5.0",
      "model_name": "IntProgressModel",
      "state": {
       "bar_style": "success",
       "description": "100.00%",
       "layout": "IPY_MODEL_80961735bad04fb1917648acf74d1b65",
       "max": 1581,
       "style": "IPY_MODEL_ff9b76aec0e74b89b34544bec5e626e2",
       "value": 1581
      }
     },
     "24953efb384546c29a349d16b8400c62": {
      "model_module": "@jupyter-widgets/controls",
      "model_module_version": "1.5.0",
      "model_name": "IntProgressModel",
      "state": {
       "bar_style": "success",
       "description": "100.00%",
       "layout": "IPY_MODEL_98a31ac83b914900b7eb299764d50502",
       "max": 353,
       "style": "IPY_MODEL_9f67560e0ba64fe792bed872dca3d795",
       "value": 353
      }
     },
     "24be98a43ff24833bc0be683cad7e668": {
      "model_module": "@jupyter-widgets/controls",
      "model_module_version": "1.5.0",
      "model_name": "IntProgressModel",
      "state": {
       "bar_style": "success",
       "description": "100.00%",
       "layout": "IPY_MODEL_876199057dc044198f57e8dd99661ab5",
       "max": 353,
       "style": "IPY_MODEL_5c3621464baf488eb968e2eff00f82f9",
       "value": 353
      }
     },
     "24edb1c693cb43b887e486a8f9da1afc": {
      "model_module": "@jupyter-widgets/base",
      "model_module_version": "1.2.0",
      "model_name": "LayoutModel",
      "state": {}
     },
     "267a6296ba164b5bac7b1c77dc290214": {
      "model_module": "@jupyter-widgets/controls",
      "model_module_version": "1.5.0",
      "model_name": "IntProgressModel",
      "state": {
       "bar_style": "success",
       "description": "100.00%",
       "layout": "IPY_MODEL_24edb1c693cb43b887e486a8f9da1afc",
       "max": 1581,
       "style": "IPY_MODEL_aa51022a84754301b478e2fb942c5d7c",
       "value": 1581
      }
     },
     "27a1a6fa7bab4a5e864a85dca8b7e57b": {
      "model_module": "@jupyter-widgets/base",
      "model_module_version": "1.2.0",
      "model_name": "LayoutModel",
      "state": {}
     },
     "291baa9e6c554d3796877de5860a18ce": {
      "model_module": "@jupyter-widgets/controls",
      "model_module_version": "1.5.0",
      "model_name": "HBoxModel",
      "state": {
       "children": [
        "IPY_MODEL_fff0d6efbb81474db982fe9d62148005",
        "IPY_MODEL_d210d675e2af43d9ab94b9debcf4e423"
       ],
       "layout": "IPY_MODEL_46b238d6a6bc4521ada27d3dc0fa4063"
      }
     },
     "2a45b56fb3eb4d6f97ffaa6928930d20": {
      "model_module": "@jupyter-widgets/controls",
      "model_module_version": "1.5.0",
      "model_name": "ProgressStyleModel",
      "state": {
       "description_width": ""
      }
     },
     "2aed62d890a8453592ebe45f8f4ae515": {
      "model_module": "@jupyter-widgets/controls",
      "model_module_version": "1.5.0",
      "model_name": "ProgressStyleModel",
      "state": {
       "description_width": ""
      }
     },
     "2bee6951b68b445c95e54a3d7dedcd19": {
      "model_module": "@jupyter-widgets/controls",
      "model_module_version": "1.5.0",
      "model_name": "ProgressStyleModel",
      "state": {
       "description_width": ""
      }
     },
     "2d49236b6bbe4dea96ca3b4e3d1b9c76": {
      "model_module": "@jupyter-widgets/base",
      "model_module_version": "1.2.0",
      "model_name": "LayoutModel",
      "state": {}
     },
     "2f02524982094cceb9db726722b9313d": {
      "model_module": "@jupyter-widgets/controls",
      "model_module_version": "1.5.0",
      "model_name": "ProgressStyleModel",
      "state": {
       "description_width": ""
      }
     },
     "2fcfbb0cb6d64396b95015906ab3d786": {
      "model_module": "@jupyter-widgets/controls",
      "model_module_version": "1.5.0",
      "model_name": "DescriptionStyleModel",
      "state": {
       "description_width": ""
      }
     },
     "35aec1e83f2c4b8f8349b4e2f6b35421": {
      "model_module": "@jupyter-widgets/base",
      "model_module_version": "1.2.0",
      "model_name": "LayoutModel",
      "state": {}
     },
     "35d03eaeeb344555b835f601080946f6": {
      "model_module": "@jupyter-widgets/base",
      "model_module_version": "1.2.0",
      "model_name": "LayoutModel",
      "state": {}
     },
     "367b075d89e74ef2b02fa1a57fd5e1a9": {
      "model_module": "@jupyter-widgets/base",
      "model_module_version": "1.2.0",
      "model_name": "LayoutModel",
      "state": {}
     },
     "369fff2008f841588cd77497b6867091": {
      "model_module": "@jupyter-widgets/base",
      "model_module_version": "1.2.0",
      "model_name": "LayoutModel",
      "state": {}
     },
     "36cffaac4de044c2b28860f441c7eafe": {
      "model_module": "@jupyter-widgets/controls",
      "model_module_version": "1.5.0",
      "model_name": "HBoxModel",
      "state": {
       "children": [
        "IPY_MODEL_37ac1dea00e74aae81ea073e61eb3574",
        "IPY_MODEL_05ecf09bee4f4e0cb7f39184c6bf9212"
       ],
       "layout": "IPY_MODEL_7174ff13ef9c482284543fc140bb3711"
      }
     },
     "37ac1dea00e74aae81ea073e61eb3574": {
      "model_module": "@jupyter-widgets/controls",
      "model_module_version": "1.5.0",
      "model_name": "IntProgressModel",
      "state": {
       "bar_style": "success",
       "description": "100.00%",
       "layout": "IPY_MODEL_9b50d9ff565f4588b8dadff1fdaad648",
       "max": 1581,
       "style": "IPY_MODEL_2f02524982094cceb9db726722b9313d",
       "value": 1581
      }
     },
     "3809b6401e8f466cb2df229f3d40b41d": {
      "model_module": "@jupyter-widgets/controls",
      "model_module_version": "1.5.0",
      "model_name": "ProgressStyleModel",
      "state": {
       "description_width": ""
      }
     },
     "38f09af8600143daad845551d2fca45a": {
      "model_module": "@jupyter-widgets/controls",
      "model_module_version": "1.5.0",
      "model_name": "ProgressStyleModel",
      "state": {
       "description_width": ""
      }
     },
     "39d44f30b8e841ebabbb9e11dbf59bbf": {
      "model_module": "@jupyter-widgets/controls",
      "model_module_version": "1.5.0",
      "model_name": "LabelModel",
      "state": {
       "layout": "IPY_MODEL_20cef43ace0545beb1f7c5308984a571",
       "style": "IPY_MODEL_6bb85f65bb7a48c8b76c89084877fe91",
       "value": "1581 / 1581"
      }
     },
     "3e3c0af5be084c1aaf28cff6bbbc267f": {
      "model_module": "@jupyter-widgets/base",
      "model_module_version": "1.2.0",
      "model_name": "LayoutModel",
      "state": {}
     },
     "3ecfd7dda4a4419a8933b667e8afab38": {
      "model_module": "@jupyter-widgets/controls",
      "model_module_version": "1.5.0",
      "model_name": "HBoxModel",
      "state": {
       "children": [
        "IPY_MODEL_ad3157fcbe754b50aa3fa9856ea5eefd",
        "IPY_MODEL_941838b99d514ebda3a07c074bd45e7d"
       ],
       "layout": "IPY_MODEL_ee721e88b0494b708899dada86525271"
      }
     },
     "3f80b8a2a5b54bb983ed32fff3297062": {
      "model_module": "@jupyter-widgets/controls",
      "model_module_version": "1.5.0",
      "model_name": "IntProgressModel",
      "state": {
       "bar_style": "success",
       "description": "100.00%",
       "layout": "IPY_MODEL_c889ddebc9d24eefaff35cec0f96f468",
       "max": 354,
       "style": "IPY_MODEL_48bbc90e8faf4885bd69a1129b584bc5",
       "value": 354
      }
     },
     "403d07f4b3994f43b6fc7a639c342541": {
      "model_module": "@jupyter-widgets/base",
      "model_module_version": "1.2.0",
      "model_name": "LayoutModel",
      "state": {}
     },
     "40f323d4e56f4856ac5f0b7df0fed7bf": {
      "model_module": "@jupyter-widgets/base",
      "model_module_version": "1.2.0",
      "model_name": "LayoutModel",
      "state": {}
     },
     "45c1995ccb6a4a05b9bfcea4ad0f9462": {
      "model_module": "@jupyter-widgets/base",
      "model_module_version": "1.2.0",
      "model_name": "LayoutModel",
      "state": {}
     },
     "46b238d6a6bc4521ada27d3dc0fa4063": {
      "model_module": "@jupyter-widgets/base",
      "model_module_version": "1.2.0",
      "model_name": "LayoutModel",
      "state": {}
     },
     "4838c165b42f4b2ea93ff52d48591ac9": {
      "model_module": "@jupyter-widgets/controls",
      "model_module_version": "1.5.0",
      "model_name": "HBoxModel",
      "state": {
       "children": [
        "IPY_MODEL_24be98a43ff24833bc0be683cad7e668",
        "IPY_MODEL_1771a0ca33be45b98983ea97cb672991"
       ],
       "layout": "IPY_MODEL_f51f8e42cb1548ae8cc2a6c71ba8618c"
      }
     },
     "48bbc90e8faf4885bd69a1129b584bc5": {
      "model_module": "@jupyter-widgets/controls",
      "model_module_version": "1.5.0",
      "model_name": "ProgressStyleModel",
      "state": {
       "description_width": ""
      }
     },
     "49f8f44168fa4053997e1ac08ded2eae": {
      "model_module": "@jupyter-widgets/base",
      "model_module_version": "1.2.0",
      "model_name": "LayoutModel",
      "state": {}
     },
     "4df2754969884076bab04437e18df797": {
      "model_module": "@jupyter-widgets/base",
      "model_module_version": "1.2.0",
      "model_name": "LayoutModel",
      "state": {}
     },
     "53d3d67e3d004fa89bd6fe1b3ddbba8f": {
      "model_module": "@jupyter-widgets/base",
      "model_module_version": "1.2.0",
      "model_name": "LayoutModel",
      "state": {}
     },
     "53e1a0fb9c0140928f2be897d1ff4b87": {
      "model_module": "@jupyter-widgets/controls",
      "model_module_version": "1.5.0",
      "model_name": "LabelModel",
      "state": {
       "layout": "IPY_MODEL_3e3c0af5be084c1aaf28cff6bbbc267f",
       "style": "IPY_MODEL_08280f49253347dca9006a11732f793d",
       "value": "1581 / 1581"
      }
     },
     "5439087209fc4cb6be5f2eb4d685a194": {
      "model_module": "@jupyter-widgets/controls",
      "model_module_version": "1.5.0",
      "model_name": "HBoxModel",
      "state": {
       "children": [
        "IPY_MODEL_59df32bccebf46c08d41c26b650c53fe",
        "IPY_MODEL_cdd0b8721b62466482e066f9cc117532"
       ],
       "layout": "IPY_MODEL_a497e45ecc764f8c879b17eda68cdc10"
      }
     },
     "54ad0391c0c94a26bbb5c5e01aabca44": {
      "model_module": "@jupyter-widgets/base",
      "model_module_version": "1.2.0",
      "model_name": "LayoutModel",
      "state": {}
     },
     "54e4637d43364d61a2203437a546ad1d": {
      "model_module": "@jupyter-widgets/base",
      "model_module_version": "1.2.0",
      "model_name": "LayoutModel",
      "state": {}
     },
     "59c437f8367e4cb7ab75d795f89c1f65": {
      "model_module": "@jupyter-widgets/base",
      "model_module_version": "1.2.0",
      "model_name": "LayoutModel",
      "state": {}
     },
     "59df32bccebf46c08d41c26b650c53fe": {
      "model_module": "@jupyter-widgets/controls",
      "model_module_version": "1.5.0",
      "model_name": "IntProgressModel",
      "state": {
       "bar_style": "success",
       "description": "100.00%",
       "layout": "IPY_MODEL_0d18fcf3d7234021bc05255884dfe4bd",
       "max": 1581,
       "style": "IPY_MODEL_0a1bfdb72da14f7e90783a1858641982",
       "value": 1581
      }
     },
     "5a4291c08be04d2f9cb79c6910a6876e": {
      "model_module": "@jupyter-widgets/base",
      "model_module_version": "1.2.0",
      "model_name": "LayoutModel",
      "state": {}
     },
     "5c3621464baf488eb968e2eff00f82f9": {
      "model_module": "@jupyter-widgets/controls",
      "model_module_version": "1.5.0",
      "model_name": "ProgressStyleModel",
      "state": {
       "description_width": ""
      }
     },
     "5dc5f13c47dc48798f75baa58feab2f2": {
      "model_module": "@jupyter-widgets/base",
      "model_module_version": "1.2.0",
      "model_name": "LayoutModel",
      "state": {}
     },
     "5e6db2d9a1c54d219d9f301b78449e0d": {
      "model_module": "@jupyter-widgets/base",
      "model_module_version": "1.2.0",
      "model_name": "LayoutModel",
      "state": {}
     },
     "5edf83a16c1645c0bb1be17965cd15a5": {
      "model_module": "@jupyter-widgets/controls",
      "model_module_version": "1.5.0",
      "model_name": "LabelModel",
      "state": {
       "layout": "IPY_MODEL_c2dd556b23304cd482a1d50458b8c837",
       "style": "IPY_MODEL_722ebd7a4c13451dbc2fe7d7a27080dc",
       "value": "1581 / 1581"
      }
     },
     "628b969e6f034dda9d578eb16e5c73e0": {
      "model_module": "@jupyter-widgets/controls",
      "model_module_version": "1.5.0",
      "model_name": "HBoxModel",
      "state": {
       "children": [
        "IPY_MODEL_231abc90cb094e4ca336b2fd15d1057d",
        "IPY_MODEL_fa23403078344ceebfa5833047743565"
       ],
       "layout": "IPY_MODEL_59c437f8367e4cb7ab75d795f89c1f65"
      }
     },
     "64604e2a57a94af9b86c127f16c95c63": {
      "model_module": "@jupyter-widgets/base",
      "model_module_version": "1.2.0",
      "model_name": "LayoutModel",
      "state": {}
     },
     "68e6b8e4ca6044278475cac1171d0039": {
      "model_module": "@jupyter-widgets/controls",
      "model_module_version": "1.5.0",
      "model_name": "ProgressStyleModel",
      "state": {
       "description_width": ""
      }
     },
     "693945cf2c9c4d0a8c6131fda051eb09": {
      "model_module": "@jupyter-widgets/base",
      "model_module_version": "1.2.0",
      "model_name": "LayoutModel",
      "state": {}
     },
     "6bb85f65bb7a48c8b76c89084877fe91": {
      "model_module": "@jupyter-widgets/controls",
      "model_module_version": "1.5.0",
      "model_name": "DescriptionStyleModel",
      "state": {
       "description_width": ""
      }
     },
     "6f67181f2ca447828ba3180591561851": {
      "model_module": "@jupyter-widgets/base",
      "model_module_version": "1.2.0",
      "model_name": "LayoutModel",
      "state": {}
     },
     "6fc5c7d8a96448b2b84fa004c1eddb91": {
      "model_module": "@jupyter-widgets/base",
      "model_module_version": "1.2.0",
      "model_name": "LayoutModel",
      "state": {}
     },
     "7084b8225454432cb26b494799e05480": {
      "model_module": "@jupyter-widgets/base",
      "model_module_version": "1.2.0",
      "model_name": "LayoutModel",
      "state": {}
     },
     "7174ff13ef9c482284543fc140bb3711": {
      "model_module": "@jupyter-widgets/base",
      "model_module_version": "1.2.0",
      "model_name": "LayoutModel",
      "state": {}
     },
     "722ebd7a4c13451dbc2fe7d7a27080dc": {
      "model_module": "@jupyter-widgets/controls",
      "model_module_version": "1.5.0",
      "model_name": "DescriptionStyleModel",
      "state": {
       "description_width": ""
      }
     },
     "75777db5f2d341d6b6445c2b9a9dab79": {
      "model_module": "@jupyter-widgets/controls",
      "model_module_version": "1.5.0",
      "model_name": "DescriptionStyleModel",
      "state": {
       "description_width": ""
      }
     },
     "76385012947447c69e3235c3741de3c6": {
      "model_module": "@jupyter-widgets/controls",
      "model_module_version": "1.5.0",
      "model_name": "HBoxModel",
      "state": {
       "children": [
        "IPY_MODEL_9ad04cc0db7843009fcda8c24a8f6440",
        "IPY_MODEL_b9192e3411f94638a2812ffb83583e0c"
       ],
       "layout": "IPY_MODEL_0fa66964b96b4865888115629b06fece"
      }
     },
     "7ac2bd4f615148faab7faaef2500fc74": {
      "model_module": "@jupyter-widgets/base",
      "model_module_version": "1.2.0",
      "model_name": "LayoutModel",
      "state": {}
     },
     "7d0ef60817004099a3a9a8701e5565e2": {
      "model_module": "@jupyter-widgets/base",
      "model_module_version": "1.2.0",
      "model_name": "LayoutModel",
      "state": {}
     },
     "7df0a63ca5f145c78da225fb2022da1e": {
      "model_module": "@jupyter-widgets/base",
      "model_module_version": "1.2.0",
      "model_name": "LayoutModel",
      "state": {}
     },
     "7f84064e01fc4bf0927418e325b7e8f7": {
      "model_module": "@jupyter-widgets/base",
      "model_module_version": "1.2.0",
      "model_name": "LayoutModel",
      "state": {}
     },
     "7ffe08e9c46144f089843a6e7325d0c8": {
      "model_module": "@jupyter-widgets/controls",
      "model_module_version": "1.5.0",
      "model_name": "HBoxModel",
      "state": {
       "children": [
        "IPY_MODEL_f2b24ab644be43f18ecab8001e2736ca",
        "IPY_MODEL_9dee8bb829814b2b8ea15d577e288c17"
       ],
       "layout": "IPY_MODEL_c51eb01fe402411da5b3278d0cdc692c"
      }
     },
     "80365bc555b7478796a07ff64eabdeca": {
      "model_module": "@jupyter-widgets/controls",
      "model_module_version": "1.5.0",
      "model_name": "ProgressStyleModel",
      "state": {
       "description_width": ""
      }
     },
     "80961735bad04fb1917648acf74d1b65": {
      "model_module": "@jupyter-widgets/base",
      "model_module_version": "1.2.0",
      "model_name": "LayoutModel",
      "state": {}
     },
     "80c1bd9faaaa4126a7e2d239505fc9bd": {
      "model_module": "@jupyter-widgets/controls",
      "model_module_version": "1.5.0",
      "model_name": "ProgressStyleModel",
      "state": {
       "description_width": ""
      }
     },
     "81f36e138b3644a383862cfaa737d99d": {
      "model_module": "@jupyter-widgets/controls",
      "model_module_version": "1.5.0",
      "model_name": "IntProgressModel",
      "state": {
       "bar_style": "success",
       "description": "100.00%",
       "layout": "IPY_MODEL_49f8f44168fa4053997e1ac08ded2eae",
       "max": 353,
       "style": "IPY_MODEL_68e6b8e4ca6044278475cac1171d0039",
       "value": 353
      }
     },
     "821aaa652a1640e0a083691d948f9d87": {
      "model_module": "@jupyter-widgets/base",
      "model_module_version": "1.2.0",
      "model_name": "LayoutModel",
      "state": {}
     },
     "826392335f6245aab08c518e4b501293": {
      "model_module": "@jupyter-widgets/controls",
      "model_module_version": "1.5.0",
      "model_name": "DescriptionStyleModel",
      "state": {
       "description_width": ""
      }
     },
     "8289328060fb4dc09351eb33a1f1e81e": {
      "model_module": "@jupyter-widgets/base",
      "model_module_version": "1.2.0",
      "model_name": "LayoutModel",
      "state": {}
     },
     "864f393c6d03495cbf6be2e62965302c": {
      "model_module": "@jupyter-widgets/base",
      "model_module_version": "1.2.0",
      "model_name": "LayoutModel",
      "state": {}
     },
     "86722e94018a42c6b75a39804a216cce": {
      "model_module": "@jupyter-widgets/controls",
      "model_module_version": "1.5.0",
      "model_name": "IntProgressModel",
      "state": {
       "bar_style": "success",
       "description": "100.00%",
       "layout": "IPY_MODEL_7f84064e01fc4bf0927418e325b7e8f7",
       "max": 1581,
       "style": "IPY_MODEL_38f09af8600143daad845551d2fca45a",
       "value": 1581
      }
     },
     "876199057dc044198f57e8dd99661ab5": {
      "model_module": "@jupyter-widgets/base",
      "model_module_version": "1.2.0",
      "model_name": "LayoutModel",
      "state": {}
     },
     "87966771cf7745c68f3549f53ec7fecb": {
      "model_module": "@jupyter-widgets/base",
      "model_module_version": "1.2.0",
      "model_name": "LayoutModel",
      "state": {}
     },
     "880eb9de2f13428fa2688ad200f176a2": {
      "model_module": "@jupyter-widgets/controls",
      "model_module_version": "1.5.0",
      "model_name": "DescriptionStyleModel",
      "state": {
       "description_width": ""
      }
     },
     "88c84659494947b7bcdb25d946687a6a": {
      "model_module": "@jupyter-widgets/base",
      "model_module_version": "1.2.0",
      "model_name": "LayoutModel",
      "state": {}
     },
     "8e1680d8943d4887a05872da73d74546": {
      "model_module": "@jupyter-widgets/controls",
      "model_module_version": "1.5.0",
      "model_name": "DescriptionStyleModel",
      "state": {
       "description_width": ""
      }
     },
     "8e28a48cba4d44fd932fc88bf9616e91": {
      "model_module": "@jupyter-widgets/controls",
      "model_module_version": "1.5.0",
      "model_name": "DescriptionStyleModel",
      "state": {
       "description_width": ""
      }
     },
     "8e559faf518a4d7ba3f6737eb6fc18d1": {
      "model_module": "@jupyter-widgets/base",
      "model_module_version": "1.2.0",
      "model_name": "LayoutModel",
      "state": {}
     },
     "90472fd2a85441429b4d59e28eb18781": {
      "model_module": "@jupyter-widgets/controls",
      "model_module_version": "1.5.0",
      "model_name": "IntProgressModel",
      "state": {
       "bar_style": "success",
       "description": "100.00%",
       "layout": "IPY_MODEL_5e6db2d9a1c54d219d9f301b78449e0d",
       "max": 354,
       "style": "IPY_MODEL_f02bb72c903f46b7a1b68a5ccf96db8e",
       "value": 354
      }
     },
     "906bc11d292d4151b76afea01a514150": {
      "model_module": "@jupyter-widgets/controls",
      "model_module_version": "1.5.0",
      "model_name": "ProgressStyleModel",
      "state": {
       "description_width": ""
      }
     },
     "91e2aba544984925bde5a91313e54c2c": {
      "model_module": "@jupyter-widgets/base",
      "model_module_version": "1.2.0",
      "model_name": "LayoutModel",
      "state": {}
     },
     "9347483f0ce543499f813966cc3f7f21": {
      "model_module": "@jupyter-widgets/controls",
      "model_module_version": "1.5.0",
      "model_name": "LabelModel",
      "state": {
       "layout": "IPY_MODEL_8e559faf518a4d7ba3f6737eb6fc18d1",
       "style": "IPY_MODEL_b162cb1a2553468ab7e3b67c32b894cd",
       "value": "1581 / 1581"
      }
     },
     "941838b99d514ebda3a07c074bd45e7d": {
      "model_module": "@jupyter-widgets/controls",
      "model_module_version": "1.5.0",
      "model_name": "LabelModel",
      "state": {
       "layout": "IPY_MODEL_0dd29b2369384b1384c789bd00996983",
       "style": "IPY_MODEL_880eb9de2f13428fa2688ad200f176a2",
       "value": "354 / 354"
      }
     },
     "9446bbf9cd27425d953e2eaf87b1dbe3": {
      "model_module": "@jupyter-widgets/controls",
      "model_module_version": "1.5.0",
      "model_name": "DescriptionStyleModel",
      "state": {
       "description_width": ""
      }
     },
     "95dde6d6da114e79b8c913897aa3765b": {
      "model_module": "@jupyter-widgets/controls",
      "model_module_version": "1.5.0",
      "model_name": "HBoxModel",
      "state": {
       "children": [
        "IPY_MODEL_86722e94018a42c6b75a39804a216cce",
        "IPY_MODEL_9347483f0ce543499f813966cc3f7f21"
       ],
       "layout": "IPY_MODEL_97a42c56f31a48f38edab6caa1107daa"
      }
     },
     "97a42c56f31a48f38edab6caa1107daa": {
      "model_module": "@jupyter-widgets/base",
      "model_module_version": "1.2.0",
      "model_name": "LayoutModel",
      "state": {}
     },
     "98a31ac83b914900b7eb299764d50502": {
      "model_module": "@jupyter-widgets/base",
      "model_module_version": "1.2.0",
      "model_name": "LayoutModel",
      "state": {}
     },
     "99c09048ed664780aad653775ec9c047": {
      "model_module": "@jupyter-widgets/controls",
      "model_module_version": "1.5.0",
      "model_name": "VBoxModel",
      "state": {
       "children": [
        "IPY_MODEL_95dde6d6da114e79b8c913897aa3765b",
        "IPY_MODEL_df7ef40708404fcd9067646556dfa537",
        "IPY_MODEL_e1e04e5cb2be4d80a26a88d14a0d8259",
        "IPY_MODEL_628b969e6f034dda9d578eb16e5c73e0",
        "IPY_MODEL_0091a18de3714c4eb79c4fb701b96e4e",
        "IPY_MODEL_b910548171f245d1b19469558b225c64",
        "IPY_MODEL_36cffaac4de044c2b28860f441c7eafe",
        "IPY_MODEL_e06498b6a0614a92abe956048748fbae",
        "IPY_MODEL_e52e590063f34585a852f1f2b0b787b2",
        "IPY_MODEL_5439087209fc4cb6be5f2eb4d685a194",
        "IPY_MODEL_0a02c2f52a2746dbb80b475f25a537f6",
        "IPY_MODEL_bdcec9416f8145ed8a60f60ef02c1734"
       ],
       "layout": "IPY_MODEL_07700ebb872f42e1b10860e197d927f8"
      }
     },
     "9a794f3bff9f43f89d224bf91aedcc1c": {
      "model_module": "@jupyter-widgets/controls",
      "model_module_version": "1.5.0",
      "model_name": "HBoxModel",
      "state": {
       "children": [
        "IPY_MODEL_90472fd2a85441429b4d59e28eb18781",
        "IPY_MODEL_df85da5ebd704ca88ab1d5c1e51644c0"
       ],
       "layout": "IPY_MODEL_f24399913d36405bb9d2d38cd8b8bc6a"
      }
     },
     "9ad04cc0db7843009fcda8c24a8f6440": {
      "model_module": "@jupyter-widgets/controls",
      "model_module_version": "1.5.0",
      "model_name": "IntProgressModel",
      "state": {
       "bar_style": "success",
       "description": "100.00%",
       "layout": "IPY_MODEL_1740bf65368e4009876019072cd6b947",
       "max": 353,
       "style": "IPY_MODEL_2bee6951b68b445c95e54a3d7dedcd19",
       "value": 353
      }
     },
     "9b50d9ff565f4588b8dadff1fdaad648": {
      "model_module": "@jupyter-widgets/base",
      "model_module_version": "1.2.0",
      "model_name": "LayoutModel",
      "state": {}
     },
     "9b5339285f834affb0f2a5bfc4b83936": {
      "model_module": "@jupyter-widgets/controls",
      "model_module_version": "1.5.0",
      "model_name": "IntProgressModel",
      "state": {
       "bar_style": "success",
       "description": "100.00%",
       "layout": "IPY_MODEL_5a4291c08be04d2f9cb79c6910a6876e",
       "max": 1581,
       "style": "IPY_MODEL_d34e3aa0be734cd6bf5f85cba034eae6",
       "value": 1581
      }
     },
     "9bb6ecbd5b7a4ea08c1fb0407f45b85a": {
      "model_module": "@jupyter-widgets/controls",
      "model_module_version": "1.5.0",
      "model_name": "ProgressStyleModel",
      "state": {
       "description_width": ""
      }
     },
     "9bbdcb56ddfe41f4b08e00f87f5424d4": {
      "model_module": "@jupyter-widgets/base",
      "model_module_version": "1.2.0",
      "model_name": "LayoutModel",
      "state": {}
     },
     "9d9d872696024cdc89a7bb8e931b0acd": {
      "model_module": "@jupyter-widgets/controls",
      "model_module_version": "1.5.0",
      "model_name": "DescriptionStyleModel",
      "state": {
       "description_width": ""
      }
     },
     "9dee8bb829814b2b8ea15d577e288c17": {
      "model_module": "@jupyter-widgets/controls",
      "model_module_version": "1.5.0",
      "model_name": "LabelModel",
      "state": {
       "layout": "IPY_MODEL_6f67181f2ca447828ba3180591561851",
       "style": "IPY_MODEL_d9d2400da55149ebb746f8c2dc4890d5",
       "value": "353 / 353"
      }
     },
     "9f67560e0ba64fe792bed872dca3d795": {
      "model_module": "@jupyter-widgets/controls",
      "model_module_version": "1.5.0",
      "model_name": "ProgressStyleModel",
      "state": {
       "description_width": ""
      }
     },
     "a497e45ecc764f8c879b17eda68cdc10": {
      "model_module": "@jupyter-widgets/base",
      "model_module_version": "1.2.0",
      "model_name": "LayoutModel",
      "state": {}
     },
     "a4cb7aec94c04f3496384224a452fd20": {
      "model_module": "@jupyter-widgets/base",
      "model_module_version": "1.2.0",
      "model_name": "LayoutModel",
      "state": {}
     },
     "a5632d46c5864a139e9f55f7d7fec1ee": {
      "model_module": "@jupyter-widgets/controls",
      "model_module_version": "1.5.0",
      "model_name": "DescriptionStyleModel",
      "state": {
       "description_width": ""
      }
     },
     "a5e13c1604ed42a39d255046d6cf56f3": {
      "model_module": "@jupyter-widgets/controls",
      "model_module_version": "1.5.0",
      "model_name": "IntProgressModel",
      "state": {
       "bar_style": "success",
       "description": "100.00%",
       "layout": "IPY_MODEL_a4cb7aec94c04f3496384224a452fd20",
       "max": 1581,
       "style": "IPY_MODEL_2aed62d890a8453592ebe45f8f4ae515",
       "value": 1581
      }
     },
     "a6afbd46ad624f7daf7c66c1baa12d7b": {
      "model_module": "@jupyter-widgets/controls",
      "model_module_version": "1.5.0",
      "model_name": "IntProgressModel",
      "state": {
       "bar_style": "success",
       "description": "100.00%",
       "layout": "IPY_MODEL_ca41e6783a984cb7ac00f76bf3213f1f",
       "max": 1581,
       "style": "IPY_MODEL_2a45b56fb3eb4d6f97ffaa6928930d20",
       "value": 1581
      }
     },
     "a75735f097584b63b2aae496b2728a73": {
      "model_module": "@jupyter-widgets/controls",
      "model_module_version": "1.5.0",
      "model_name": "LabelModel",
      "state": {
       "layout": "IPY_MODEL_1e55c62790ec47f1bee6f0fe8ba4725b",
       "style": "IPY_MODEL_1294b82c30354dd2bb9e822c91f200e1",
       "value": "353 / 353"
      }
     },
     "aa51022a84754301b478e2fb942c5d7c": {
      "model_module": "@jupyter-widgets/controls",
      "model_module_version": "1.5.0",
      "model_name": "ProgressStyleModel",
      "state": {
       "description_width": ""
      }
     },
     "ac4d5f30afed4e3da5d170433a1d1bdb": {
      "model_module": "@jupyter-widgets/controls",
      "model_module_version": "1.5.0",
      "model_name": "HBoxModel",
      "state": {
       "children": [
        "IPY_MODEL_81f36e138b3644a383862cfaa737d99d",
        "IPY_MODEL_b26bcd67312f40bc9ad94b852d165163"
       ],
       "layout": "IPY_MODEL_64604e2a57a94af9b86c127f16c95c63"
      }
     },
     "ad3157fcbe754b50aa3fa9856ea5eefd": {
      "model_module": "@jupyter-widgets/controls",
      "model_module_version": "1.5.0",
      "model_name": "IntProgressModel",
      "state": {
       "bar_style": "success",
       "description": "100.00%",
       "layout": "IPY_MODEL_45c1995ccb6a4a05b9bfcea4ad0f9462",
       "max": 354,
       "style": "IPY_MODEL_9bb6ecbd5b7a4ea08c1fb0407f45b85a",
       "value": 354
      }
     },
     "b162cb1a2553468ab7e3b67c32b894cd": {
      "model_module": "@jupyter-widgets/controls",
      "model_module_version": "1.5.0",
      "model_name": "DescriptionStyleModel",
      "state": {
       "description_width": ""
      }
     },
     "b18fe4caa6a744e39b1861278cbfef44": {
      "model_module": "@jupyter-widgets/controls",
      "model_module_version": "1.5.0",
      "model_name": "HBoxModel",
      "state": {
       "children": [
        "IPY_MODEL_2278529925cb494d90948c4d4b1d6b28",
        "IPY_MODEL_c1f6d70fd0644632bda3b4999961e3a5"
       ],
       "layout": "IPY_MODEL_b75afffd9b034f15a16bd151d6b8ecd5"
      }
     },
     "b26bcd67312f40bc9ad94b852d165163": {
      "model_module": "@jupyter-widgets/controls",
      "model_module_version": "1.5.0",
      "model_name": "LabelModel",
      "state": {
       "layout": "IPY_MODEL_ff24b663cff649cca9789927887765ae",
       "style": "IPY_MODEL_a5632d46c5864a139e9f55f7d7fec1ee",
       "value": "353 / 353"
      }
     },
     "b42fbcb70215483395b1c25fda1d377a": {
      "model_module": "@jupyter-widgets/controls",
      "model_module_version": "1.5.0",
      "model_name": "IntProgressModel",
      "state": {
       "bar_style": "success",
       "description": "100.00%",
       "layout": "IPY_MODEL_54ad0391c0c94a26bbb5c5e01aabca44",
       "max": 353,
       "style": "IPY_MODEL_80c1bd9faaaa4126a7e2d239505fc9bd",
       "value": 353
      }
     },
     "b51187c8b8b44513ae7f69e99c2783c5": {
      "model_module": "@jupyter-widgets/base",
      "model_module_version": "1.2.0",
      "model_name": "LayoutModel",
      "state": {}
     },
     "b6fd9f8a3b1549e895342ae6c815fae7": {
      "model_module": "@jupyter-widgets/controls",
      "model_module_version": "1.5.0",
      "model_name": "LabelModel",
      "state": {
       "layout": "IPY_MODEL_864f393c6d03495cbf6be2e62965302c",
       "style": "IPY_MODEL_c2ecdc592e4049aaac8c323cf4774f01",
       "value": "1581 / 1581"
      }
     },
     "b75afffd9b034f15a16bd151d6b8ecd5": {
      "model_module": "@jupyter-widgets/base",
      "model_module_version": "1.2.0",
      "model_name": "LayoutModel",
      "state": {}
     },
     "b910548171f245d1b19469558b225c64": {
      "model_module": "@jupyter-widgets/controls",
      "model_module_version": "1.5.0",
      "model_name": "HBoxModel",
      "state": {
       "children": [
        "IPY_MODEL_267a6296ba164b5bac7b1c77dc290214",
        "IPY_MODEL_39d44f30b8e841ebabbb9e11dbf59bbf"
       ],
       "layout": "IPY_MODEL_e061647d2d9743cba7f4dd5a8aef33b5"
      }
     },
     "b9192e3411f94638a2812ffb83583e0c": {
      "model_module": "@jupyter-widgets/controls",
      "model_module_version": "1.5.0",
      "model_name": "LabelModel",
      "state": {
       "layout": "IPY_MODEL_b9e4a0902439411481b839f14c8d16d3",
       "style": "IPY_MODEL_8e28a48cba4d44fd932fc88bf9616e91",
       "value": "353 / 353"
      }
     },
     "b9e4a0902439411481b839f14c8d16d3": {
      "model_module": "@jupyter-widgets/base",
      "model_module_version": "1.2.0",
      "model_name": "LayoutModel",
      "state": {}
     },
     "bcb45c43ad3145c999e03db2b4f4c4b3": {
      "model_module": "@jupyter-widgets/base",
      "model_module_version": "1.2.0",
      "model_name": "LayoutModel",
      "state": {}
     },
     "bdcec9416f8145ed8a60f60ef02c1734": {
      "model_module": "@jupyter-widgets/controls",
      "model_module_version": "1.5.0",
      "model_name": "HBoxModel",
      "state": {
       "children": [
        "IPY_MODEL_c2ed263ec727413cad80260bfd27a843",
        "IPY_MODEL_53e1a0fb9c0140928f2be897d1ff4b87"
       ],
       "layout": "IPY_MODEL_bcb45c43ad3145c999e03db2b4f4c4b3"
      }
     },
     "bf6dfc4f666a473a84290800d407726c": {
      "model_module": "@jupyter-widgets/base",
      "model_module_version": "1.2.0",
      "model_name": "LayoutModel",
      "state": {}
     },
     "c0fc872ed354405a9be5b03d171fab90": {
      "model_module": "@jupyter-widgets/controls",
      "model_module_version": "1.5.0",
      "model_name": "DescriptionStyleModel",
      "state": {
       "description_width": ""
      }
     },
     "c1f6d70fd0644632bda3b4999961e3a5": {
      "model_module": "@jupyter-widgets/controls",
      "model_module_version": "1.5.0",
      "model_name": "LabelModel",
      "state": {
       "layout": "IPY_MODEL_e753f3dc8bc5461dbe51a1ea8120fe64",
       "style": "IPY_MODEL_826392335f6245aab08c518e4b501293",
       "value": "354 / 354"
      }
     },
     "c2dd556b23304cd482a1d50458b8c837": {
      "model_module": "@jupyter-widgets/base",
      "model_module_version": "1.2.0",
      "model_name": "LayoutModel",
      "state": {}
     },
     "c2ecdc592e4049aaac8c323cf4774f01": {
      "model_module": "@jupyter-widgets/controls",
      "model_module_version": "1.5.0",
      "model_name": "DescriptionStyleModel",
      "state": {
       "description_width": ""
      }
     },
     "c2ed263ec727413cad80260bfd27a843": {
      "model_module": "@jupyter-widgets/controls",
      "model_module_version": "1.5.0",
      "model_name": "IntProgressModel",
      "state": {
       "bar_style": "success",
       "description": "100.00%",
       "layout": "IPY_MODEL_bf6dfc4f666a473a84290800d407726c",
       "max": 1581,
       "style": "IPY_MODEL_fc60d1920cab480c87912f1f975e6722",
       "value": 1581
      }
     },
     "c39916f97e134dafb4f3dcba6bd84b80": {
      "model_module": "@jupyter-widgets/controls",
      "model_module_version": "1.5.0",
      "model_name": "ProgressStyleModel",
      "state": {
       "description_width": ""
      }
     },
     "c51eb01fe402411da5b3278d0cdc692c": {
      "model_module": "@jupyter-widgets/base",
      "model_module_version": "1.2.0",
      "model_name": "LayoutModel",
      "state": {}
     },
     "c889ddebc9d24eefaff35cec0f96f468": {
      "model_module": "@jupyter-widgets/base",
      "model_module_version": "1.2.0",
      "model_name": "LayoutModel",
      "state": {}
     },
     "c8afcf05fbd644e196c1fd2014abf7a2": {
      "model_module": "@jupyter-widgets/controls",
      "model_module_version": "1.5.0",
      "model_name": "LabelModel",
      "state": {
       "layout": "IPY_MODEL_0ebf668da5dc41af997e59211125b50c",
       "style": "IPY_MODEL_8e1680d8943d4887a05872da73d74546",
       "value": "1581 / 1581"
      }
     },
     "c982bdf0bd8845bc9a14556eeb92a741": {
      "model_module": "@jupyter-widgets/controls",
      "model_module_version": "1.5.0",
      "model_name": "DescriptionStyleModel",
      "state": {
       "description_width": ""
      }
     },
     "ca41e6783a984cb7ac00f76bf3213f1f": {
      "model_module": "@jupyter-widgets/base",
      "model_module_version": "1.2.0",
      "model_name": "LayoutModel",
      "state": {}
     },
     "cdd0b8721b62466482e066f9cc117532": {
      "model_module": "@jupyter-widgets/controls",
      "model_module_version": "1.5.0",
      "model_name": "LabelModel",
      "state": {
       "layout": "IPY_MODEL_2d49236b6bbe4dea96ca3b4e3d1b9c76",
       "style": "IPY_MODEL_ef778133ab13443cb2896e0c6bdb94fb",
       "value": "1581 / 1581"
      }
     },
     "cfb1ebc7c4aa47da861b34ba11e03900": {
      "model_module": "@jupyter-widgets/controls",
      "model_module_version": "1.5.0",
      "model_name": "HBoxModel",
      "state": {
       "children": [
        "IPY_MODEL_1a589703df344ad0af8443bdb0b3b8dd",
        "IPY_MODEL_1dfa92e3b4d34fd3b7ce2d8c2d2de767"
       ],
       "layout": "IPY_MODEL_821aaa652a1640e0a083691d948f9d87"
      }
     },
     "d0029b7244b34c57b60c1023b750034b": {
      "model_module": "@jupyter-widgets/controls",
      "model_module_version": "1.5.0",
      "model_name": "DescriptionStyleModel",
      "state": {
       "description_width": ""
      }
     },
     "d210d675e2af43d9ab94b9debcf4e423": {
      "model_module": "@jupyter-widgets/controls",
      "model_module_version": "1.5.0",
      "model_name": "LabelModel",
      "state": {
       "layout": "IPY_MODEL_5dc5f13c47dc48798f75baa58feab2f2",
       "style": "IPY_MODEL_d7cb0ac5b96b47fa8bfb3b228163ce31",
       "value": "353 / 353"
      }
     },
     "d34e3aa0be734cd6bf5f85cba034eae6": {
      "model_module": "@jupyter-widgets/controls",
      "model_module_version": "1.5.0",
      "model_name": "ProgressStyleModel",
      "state": {
       "description_width": ""
      }
     },
     "d7cb0ac5b96b47fa8bfb3b228163ce31": {
      "model_module": "@jupyter-widgets/controls",
      "model_module_version": "1.5.0",
      "model_name": "DescriptionStyleModel",
      "state": {
       "description_width": ""
      }
     },
     "d9d2400da55149ebb746f8c2dc4890d5": {
      "model_module": "@jupyter-widgets/controls",
      "model_module_version": "1.5.0",
      "model_name": "DescriptionStyleModel",
      "state": {
       "description_width": ""
      }
     },
     "d9fe8660f5d343dbaeff4762a52d2f9c": {
      "model_module": "@jupyter-widgets/controls",
      "model_module_version": "1.5.0",
      "model_name": "VBoxModel",
      "state": {
       "children": [
        "IPY_MODEL_b18fe4caa6a744e39b1861278cbfef44",
        "IPY_MODEL_ee3e7962203542c49914fa8a4a6e3da8",
        "IPY_MODEL_9a794f3bff9f43f89d224bf91aedcc1c",
        "IPY_MODEL_3ecfd7dda4a4419a8933b667e8afab38",
        "IPY_MODEL_76385012947447c69e3235c3741de3c6",
        "IPY_MODEL_0d59a5f4f88e4e7a9227188ad5c82cc4",
        "IPY_MODEL_cfb1ebc7c4aa47da861b34ba11e03900",
        "IPY_MODEL_4838c165b42f4b2ea93ff52d48591ac9",
        "IPY_MODEL_7ffe08e9c46144f089843a6e7325d0c8",
        "IPY_MODEL_ac4d5f30afed4e3da5d170433a1d1bdb",
        "IPY_MODEL_291baa9e6c554d3796877de5860a18ce",
        "IPY_MODEL_ebf4b5bbbfe547dcaa857b0869c3005e"
       ],
       "layout": "IPY_MODEL_8289328060fb4dc09351eb33a1f1e81e"
      }
     },
     "dbea8f46b7ac430b813669716987ace0": {
      "model_module": "@jupyter-widgets/controls",
      "model_module_version": "1.5.0",
      "model_name": "LabelModel",
      "state": {
       "layout": "IPY_MODEL_7084b8225454432cb26b494799e05480",
       "style": "IPY_MODEL_c0fc872ed354405a9be5b03d171fab90",
       "value": "353 / 353"
      }
     },
     "dc80aeb838aa48bfbe8f90c80b7afee4": {
      "model_module": "@jupyter-widgets/controls",
      "model_module_version": "1.5.0",
      "model_name": "LabelModel",
      "state": {
       "layout": "IPY_MODEL_27a1a6fa7bab4a5e864a85dca8b7e57b",
       "style": "IPY_MODEL_1a697e699b3b442a84458e3330c5365b",
       "value": "1581 / 1581"
      }
     },
     "dcf4d9c84a6f472fa7fb573f31c07cd8": {
      "model_module": "@jupyter-widgets/base",
      "model_module_version": "1.2.0",
      "model_name": "LayoutModel",
      "state": {}
     },
     "df7ef40708404fcd9067646556dfa537": {
      "model_module": "@jupyter-widgets/controls",
      "model_module_version": "1.5.0",
      "model_name": "HBoxModel",
      "state": {
       "children": [
        "IPY_MODEL_0751fe45bf094ff0b5c7844005085683",
        "IPY_MODEL_b6fd9f8a3b1549e895342ae6c815fae7"
       ],
       "layout": "IPY_MODEL_7df0a63ca5f145c78da225fb2022da1e"
      }
     },
     "df85da5ebd704ca88ab1d5c1e51644c0": {
      "model_module": "@jupyter-widgets/controls",
      "model_module_version": "1.5.0",
      "model_name": "LabelModel",
      "state": {
       "layout": "IPY_MODEL_b51187c8b8b44513ae7f69e99c2783c5",
       "style": "IPY_MODEL_9d9d872696024cdc89a7bb8e931b0acd",
       "value": "354 / 354"
      }
     },
     "e061647d2d9743cba7f4dd5a8aef33b5": {
      "model_module": "@jupyter-widgets/base",
      "model_module_version": "1.2.0",
      "model_name": "LayoutModel",
      "state": {}
     },
     "e06498b6a0614a92abe956048748fbae": {
      "model_module": "@jupyter-widgets/controls",
      "model_module_version": "1.5.0",
      "model_name": "HBoxModel",
      "state": {
       "children": [
        "IPY_MODEL_15dd2df7ffd74512bfc0837b3f1c2e3a",
        "IPY_MODEL_1b1242760a7345d8a840824756b9c9c1"
       ],
       "layout": "IPY_MODEL_35aec1e83f2c4b8f8349b4e2f6b35421"
      }
     },
     "e14875d2ed454622ab6a7ec73b6aa2be": {
      "model_module": "@jupyter-widgets/controls",
      "model_module_version": "1.5.0",
      "model_name": "ProgressStyleModel",
      "state": {
       "description_width": ""
      }
     },
     "e1e04e5cb2be4d80a26a88d14a0d8259": {
      "model_module": "@jupyter-widgets/controls",
      "model_module_version": "1.5.0",
      "model_name": "HBoxModel",
      "state": {
       "children": [
        "IPY_MODEL_a6afbd46ad624f7daf7c66c1baa12d7b",
        "IPY_MODEL_fe3ac2bdec29442588d936b8b6ebe1f6"
       ],
       "layout": "IPY_MODEL_6fc5c7d8a96448b2b84fa004c1eddb91"
      }
     },
     "e52e590063f34585a852f1f2b0b787b2": {
      "model_module": "@jupyter-widgets/controls",
      "model_module_version": "1.5.0",
      "model_name": "HBoxModel",
      "state": {
       "children": [
        "IPY_MODEL_9b5339285f834affb0f2a5bfc4b83936",
        "IPY_MODEL_5edf83a16c1645c0bb1be17965cd15a5"
       ],
       "layout": "IPY_MODEL_ff9f67343d274887a0513b24fc9cdd8c"
      }
     },
     "e753f3dc8bc5461dbe51a1ea8120fe64": {
      "model_module": "@jupyter-widgets/base",
      "model_module_version": "1.2.0",
      "model_name": "LayoutModel",
      "state": {}
     },
     "ebf4b5bbbfe547dcaa857b0869c3005e": {
      "model_module": "@jupyter-widgets/controls",
      "model_module_version": "1.5.0",
      "model_name": "HBoxModel",
      "state": {
       "children": [
        "IPY_MODEL_b42fbcb70215483395b1c25fda1d377a",
        "IPY_MODEL_a75735f097584b63b2aae496b2728a73"
       ],
       "layout": "IPY_MODEL_87966771cf7745c68f3549f53ec7fecb"
      }
     },
     "ee3e7962203542c49914fa8a4a6e3da8": {
      "model_module": "@jupyter-widgets/controls",
      "model_module_version": "1.5.0",
      "model_name": "HBoxModel",
      "state": {
       "children": [
        "IPY_MODEL_3f80b8a2a5b54bb983ed32fff3297062",
        "IPY_MODEL_131a47a3d26640118c6237f0853f080a"
       ],
       "layout": "IPY_MODEL_40f323d4e56f4856ac5f0b7df0fed7bf"
      }
     },
     "ee721e88b0494b708899dada86525271": {
      "model_module": "@jupyter-widgets/base",
      "model_module_version": "1.2.0",
      "model_name": "LayoutModel",
      "state": {}
     },
     "ef778133ab13443cb2896e0c6bdb94fb": {
      "model_module": "@jupyter-widgets/controls",
      "model_module_version": "1.5.0",
      "model_name": "DescriptionStyleModel",
      "state": {
       "description_width": ""
      }
     },
     "f02bb72c903f46b7a1b68a5ccf96db8e": {
      "model_module": "@jupyter-widgets/controls",
      "model_module_version": "1.5.0",
      "model_name": "ProgressStyleModel",
      "state": {
       "description_width": ""
      }
     },
     "f24399913d36405bb9d2d38cd8b8bc6a": {
      "model_module": "@jupyter-widgets/base",
      "model_module_version": "1.2.0",
      "model_name": "LayoutModel",
      "state": {}
     },
     "f2b24ab644be43f18ecab8001e2736ca": {
      "model_module": "@jupyter-widgets/controls",
      "model_module_version": "1.5.0",
      "model_name": "IntProgressModel",
      "state": {
       "bar_style": "success",
       "description": "100.00%",
       "layout": "IPY_MODEL_53d3d67e3d004fa89bd6fe1b3ddbba8f",
       "max": 353,
       "style": "IPY_MODEL_0968fccda6d249b4bad8970c253527f9",
       "value": 353
      }
     },
     "f51f8e42cb1548ae8cc2a6c71ba8618c": {
      "model_module": "@jupyter-widgets/base",
      "model_module_version": "1.2.0",
      "model_name": "LayoutModel",
      "state": {}
     },
     "f92d5614284c485f852be78f0b2de288": {
      "model_module": "@jupyter-widgets/controls",
      "model_module_version": "1.5.0",
      "model_name": "IntProgressModel",
      "state": {
       "bar_style": "success",
       "description": "100.00%",
       "layout": "IPY_MODEL_dcf4d9c84a6f472fa7fb573f31c07cd8",
       "max": 1581,
       "style": "IPY_MODEL_906bc11d292d4151b76afea01a514150",
       "value": 1581
      }
     },
     "fa23403078344ceebfa5833047743565": {
      "model_module": "@jupyter-widgets/controls",
      "model_module_version": "1.5.0",
      "model_name": "LabelModel",
      "state": {
       "layout": "IPY_MODEL_1c2cd041e2da43fa9d74d690b5c93ed5",
       "style": "IPY_MODEL_9446bbf9cd27425d953e2eaf87b1dbe3",
       "value": "1581 / 1581"
      }
     },
     "fc60d1920cab480c87912f1f975e6722": {
      "model_module": "@jupyter-widgets/controls",
      "model_module_version": "1.5.0",
      "model_name": "ProgressStyleModel",
      "state": {
       "description_width": ""
      }
     },
     "fe3ac2bdec29442588d936b8b6ebe1f6": {
      "model_module": "@jupyter-widgets/controls",
      "model_module_version": "1.5.0",
      "model_name": "LabelModel",
      "state": {
       "layout": "IPY_MODEL_693945cf2c9c4d0a8c6131fda051eb09",
       "style": "IPY_MODEL_2fcfbb0cb6d64396b95015906ab3d786",
       "value": "1581 / 1581"
      }
     },
     "ff24b663cff649cca9789927887765ae": {
      "model_module": "@jupyter-widgets/base",
      "model_module_version": "1.2.0",
      "model_name": "LayoutModel",
      "state": {}
     },
     "ff9b76aec0e74b89b34544bec5e626e2": {
      "model_module": "@jupyter-widgets/controls",
      "model_module_version": "1.5.0",
      "model_name": "ProgressStyleModel",
      "state": {
       "description_width": ""
      }
     },
     "ff9f67343d274887a0513b24fc9cdd8c": {
      "model_module": "@jupyter-widgets/base",
      "model_module_version": "1.2.0",
      "model_name": "LayoutModel",
      "state": {}
     },
     "fff0d6efbb81474db982fe9d62148005": {
      "model_module": "@jupyter-widgets/controls",
      "model_module_version": "1.5.0",
      "model_name": "IntProgressModel",
      "state": {
       "bar_style": "success",
       "description": "100.00%",
       "layout": "IPY_MODEL_08f00de577fa4d5c9e66ad184bd74e2a",
       "max": 353,
       "style": "IPY_MODEL_1738430e77574cea9da157d233e9d0d8",
       "value": 353
      }
     }
    },
    "version_major": 2,
    "version_minor": 0
   }
  }
 },
 "nbformat": 4,
 "nbformat_minor": 4
}
